{
  "nbformat": 4,
  "nbformat_minor": 0,
  "metadata": {
    "colab": {
      "name": "1 - Cleaning.ipynb",
      "provenance": [],
      "collapsed_sections": [],
      "toc_visible": true
    },
    "kernelspec": {
      "name": "python3",
      "display_name": "Python 3"
    },
    "language_info": {
      "name": "python"
    }
  },
  "cells": [
    {
      "cell_type": "markdown",
      "source": [
        "##Imports de Bibliotecas/Arquivos"
      ],
      "metadata": {
        "id": "KOd0HuHzzPWB"
      }
    },
    {
      "cell_type": "code",
      "execution_count": 1,
      "metadata": {
        "id": "EafLtfJ3ym1y"
      },
      "outputs": [],
      "source": [
        "import numpy as np\n",
        "import pandas as pd\n",
        "import matplotlib.pyplot as plt\n",
        "import seaborn as sns\n",
        "from google.colab import files"
      ]
    },
    {
      "cell_type": "code",
      "source": [
        "df21 = pd.read_csv('https://raw.githubusercontent.com/BernnardoSBO/ICD-TrabalhoFinal/master/databases/world-happiness-report-2021.csv')\n",
        "dft = pd.read_csv('https://raw.githubusercontent.com/BernnardoSBO/ICD-TrabalhoFinal/master/databases/world-happiness-report.csv')"
      ],
      "metadata": {
        "id": "kYYTGAzk0w9P"
      },
      "execution_count": 2,
      "outputs": []
    },
    {
      "cell_type": "markdown",
      "source": [
        "#1. Analisando e Concatenando as Bases de Dados"
      ],
      "metadata": {
        "id": "2Kqp50jP-14e"
      }
    },
    {
      "cell_type": "markdown",
      "source": [
        "Primeiramente, vamos visualizar o conteúdo das tabelas"
      ],
      "metadata": {
        "id": "3DJz38TbOL4s"
      }
    },
    {
      "cell_type": "markdown",
      "source": [
        "##Tabela 'world-happiness-report'"
      ],
      "metadata": {
        "id": "KCE5r9--OQRm"
      }
    },
    {
      "cell_type": "markdown",
      "source": [
        "Primeiramente, vamos dar uma olhada na tabela afim de começar a nosso entendimento de como os dados estão disponibilizados"
      ],
      "metadata": {
        "id": "o3CRo7b7igaf"
      }
    },
    {
      "cell_type": "code",
      "source": [
        "dft.head(2)"
      ],
      "metadata": {
        "colab": {
          "base_uri": "https://localhost:8080/",
          "height": 174
        },
        "id": "MwO6WA3qOYmK",
        "outputId": "ebe677a3-ec80-411c-9567-07720f45c529"
      },
      "execution_count": 3,
      "outputs": [
        {
          "output_type": "execute_result",
          "data": {
            "text/html": [
              "\n",
              "  <div id=\"df-5ef1f164-0428-4abe-b1de-d1b8080db5d8\">\n",
              "    <div class=\"colab-df-container\">\n",
              "      <div>\n",
              "<style scoped>\n",
              "    .dataframe tbody tr th:only-of-type {\n",
              "        vertical-align: middle;\n",
              "    }\n",
              "\n",
              "    .dataframe tbody tr th {\n",
              "        vertical-align: top;\n",
              "    }\n",
              "\n",
              "    .dataframe thead th {\n",
              "        text-align: right;\n",
              "    }\n",
              "</style>\n",
              "<table border=\"1\" class=\"dataframe\">\n",
              "  <thead>\n",
              "    <tr style=\"text-align: right;\">\n",
              "      <th></th>\n",
              "      <th>Country name</th>\n",
              "      <th>year</th>\n",
              "      <th>Life Ladder</th>\n",
              "      <th>Log GDP per capita</th>\n",
              "      <th>Social support</th>\n",
              "      <th>Healthy life expectancy at birth</th>\n",
              "      <th>Freedom to make life choices</th>\n",
              "      <th>Generosity</th>\n",
              "      <th>Perceptions of corruption</th>\n",
              "      <th>Positive affect</th>\n",
              "      <th>Negative affect</th>\n",
              "    </tr>\n",
              "  </thead>\n",
              "  <tbody>\n",
              "    <tr>\n",
              "      <th>0</th>\n",
              "      <td>Afghanistan</td>\n",
              "      <td>2008</td>\n",
              "      <td>3.724</td>\n",
              "      <td>7.37</td>\n",
              "      <td>0.451</td>\n",
              "      <td>50.8</td>\n",
              "      <td>0.718</td>\n",
              "      <td>0.168</td>\n",
              "      <td>0.882</td>\n",
              "      <td>0.518</td>\n",
              "      <td>0.258</td>\n",
              "    </tr>\n",
              "    <tr>\n",
              "      <th>1</th>\n",
              "      <td>Afghanistan</td>\n",
              "      <td>2009</td>\n",
              "      <td>4.402</td>\n",
              "      <td>7.54</td>\n",
              "      <td>0.552</td>\n",
              "      <td>51.2</td>\n",
              "      <td>0.679</td>\n",
              "      <td>0.190</td>\n",
              "      <td>0.850</td>\n",
              "      <td>0.584</td>\n",
              "      <td>0.237</td>\n",
              "    </tr>\n",
              "  </tbody>\n",
              "</table>\n",
              "</div>\n",
              "      <button class=\"colab-df-convert\" onclick=\"convertToInteractive('df-5ef1f164-0428-4abe-b1de-d1b8080db5d8')\"\n",
              "              title=\"Convert this dataframe to an interactive table.\"\n",
              "              style=\"display:none;\">\n",
              "        \n",
              "  <svg xmlns=\"http://www.w3.org/2000/svg\" height=\"24px\"viewBox=\"0 0 24 24\"\n",
              "       width=\"24px\">\n",
              "    <path d=\"M0 0h24v24H0V0z\" fill=\"none\"/>\n",
              "    <path d=\"M18.56 5.44l.94 2.06.94-2.06 2.06-.94-2.06-.94-.94-2.06-.94 2.06-2.06.94zm-11 1L8.5 8.5l.94-2.06 2.06-.94-2.06-.94L8.5 2.5l-.94 2.06-2.06.94zm10 10l.94 2.06.94-2.06 2.06-.94-2.06-.94-.94-2.06-.94 2.06-2.06.94z\"/><path d=\"M17.41 7.96l-1.37-1.37c-.4-.4-.92-.59-1.43-.59-.52 0-1.04.2-1.43.59L10.3 9.45l-7.72 7.72c-.78.78-.78 2.05 0 2.83L4 21.41c.39.39.9.59 1.41.59.51 0 1.02-.2 1.41-.59l7.78-7.78 2.81-2.81c.8-.78.8-2.07 0-2.86zM5.41 20L4 18.59l7.72-7.72 1.47 1.35L5.41 20z\"/>\n",
              "  </svg>\n",
              "      </button>\n",
              "      \n",
              "  <style>\n",
              "    .colab-df-container {\n",
              "      display:flex;\n",
              "      flex-wrap:wrap;\n",
              "      gap: 12px;\n",
              "    }\n",
              "\n",
              "    .colab-df-convert {\n",
              "      background-color: #E8F0FE;\n",
              "      border: none;\n",
              "      border-radius: 50%;\n",
              "      cursor: pointer;\n",
              "      display: none;\n",
              "      fill: #1967D2;\n",
              "      height: 32px;\n",
              "      padding: 0 0 0 0;\n",
              "      width: 32px;\n",
              "    }\n",
              "\n",
              "    .colab-df-convert:hover {\n",
              "      background-color: #E2EBFA;\n",
              "      box-shadow: 0px 1px 2px rgba(60, 64, 67, 0.3), 0px 1px 3px 1px rgba(60, 64, 67, 0.15);\n",
              "      fill: #174EA6;\n",
              "    }\n",
              "\n",
              "    [theme=dark] .colab-df-convert {\n",
              "      background-color: #3B4455;\n",
              "      fill: #D2E3FC;\n",
              "    }\n",
              "\n",
              "    [theme=dark] .colab-df-convert:hover {\n",
              "      background-color: #434B5C;\n",
              "      box-shadow: 0px 1px 3px 1px rgba(0, 0, 0, 0.15);\n",
              "      filter: drop-shadow(0px 1px 2px rgba(0, 0, 0, 0.3));\n",
              "      fill: #FFFFFF;\n",
              "    }\n",
              "  </style>\n",
              "\n",
              "      <script>\n",
              "        const buttonEl =\n",
              "          document.querySelector('#df-5ef1f164-0428-4abe-b1de-d1b8080db5d8 button.colab-df-convert');\n",
              "        buttonEl.style.display =\n",
              "          google.colab.kernel.accessAllowed ? 'block' : 'none';\n",
              "\n",
              "        async function convertToInteractive(key) {\n",
              "          const element = document.querySelector('#df-5ef1f164-0428-4abe-b1de-d1b8080db5d8');\n",
              "          const dataTable =\n",
              "            await google.colab.kernel.invokeFunction('convertToInteractive',\n",
              "                                                     [key], {});\n",
              "          if (!dataTable) return;\n",
              "\n",
              "          const docLinkHtml = 'Like what you see? Visit the ' +\n",
              "            '<a target=\"_blank\" href=https://colab.research.google.com/notebooks/data_table.ipynb>data table notebook</a>'\n",
              "            + ' to learn more about interactive tables.';\n",
              "          element.innerHTML = '';\n",
              "          dataTable['output_type'] = 'display_data';\n",
              "          await google.colab.output.renderOutput(dataTable, element);\n",
              "          const docLink = document.createElement('div');\n",
              "          docLink.innerHTML = docLinkHtml;\n",
              "          element.appendChild(docLink);\n",
              "        }\n",
              "      </script>\n",
              "    </div>\n",
              "  </div>\n",
              "  "
            ],
            "text/plain": [
              "  Country name  year  ...  Positive affect  Negative affect\n",
              "0  Afghanistan  2008  ...            0.518            0.258\n",
              "1  Afghanistan  2009  ...            0.584            0.237\n",
              "\n",
              "[2 rows x 11 columns]"
            ]
          },
          "metadata": {},
          "execution_count": 3
        }
      ]
    },
    {
      "cell_type": "code",
      "source": [
        "print(\"A tabela 'world-happiness-report' apresenta \", dft.shape[0], \" observações, cada uma com \", dft.shape[1], \" propriedades\")"
      ],
      "metadata": {
        "colab": {
          "base_uri": "https://localhost:8080/"
        },
        "id": "w8c8PN33ju-Y",
        "outputId": "df663241-0548-4a17-e474-868492cfc809"
      },
      "execution_count": 4,
      "outputs": [
        {
          "output_type": "stream",
          "name": "stdout",
          "text": [
            "A tabela 'world-happiness-report' apresenta  1949  observações, cada uma com  11  propriedades\n"
          ]
        }
      ]
    },
    {
      "cell_type": "markdown",
      "source": [
        "<p>Podemos observar que essa tabela apresenta como uma de suas colunas o parâmetro 'year', que nos diz qual foi o ano em que aqueles dados foram coletados.</p>\n",
        "<p>\n",
        "Portanto, vamos verificar quais anos estão presentes nessa tabela"
      ],
      "metadata": {
        "id": "piKzMD8_O_GJ"
      }
    },
    {
      "cell_type": "code",
      "source": [
        "b = dft['year'].min()\n",
        "t = dft['year'].max()\n",
        "anos = np.arange(b,t + 1,1)\n",
        "\n",
        "print('Os anos em que os estudos foram feitos na primeira tabela são:\\n', end='')\n",
        "\n",
        "for i in range(len(anos) - 1):\n",
        "  print(anos[i],end=', ')\n",
        "\n",
        "print(anos[len(anos)-1], end='.')"
      ],
      "metadata": {
        "colab": {
          "base_uri": "https://localhost:8080/"
        },
        "id": "t_V2SjKP2M4W",
        "outputId": "a7b1c246-498a-4092-893c-338828f272e7"
      },
      "execution_count": 5,
      "outputs": [
        {
          "output_type": "stream",
          "name": "stdout",
          "text": [
            "Os anos em que os estudos foram feitos na primeira tabela são:\n",
            "2005, 2006, 2007, 2008, 2009, 2010, 2011, 2012, 2013, 2014, 2015, 2016, 2017, 2018, 2019, 2020."
          ]
        }
      ]
    },
    {
      "cell_type": "markdown",
      "source": [
        "<p>Assim, conseguimos ver que o estudo foi realizado em todos os anos desde 2005 até 2020.</p>\n",
        "<p>Seria interessante para nós criarmos visualizações para analisar a diferença entre o conteúdo da tabela nos diferentes anos em que a pequisa foi realizada</p>\n",
        "<p>Obs: Uma vez que estamos separando por ano, convém excluirmos o parâmetro 'year' nas novas tabelas</p>"
      ],
      "metadata": {
        "id": "JjMBW3ApPe78"
      }
    },
    {
      "cell_type": "code",
      "source": [
        "dict_years = {}\n",
        "\n",
        "for year in anos:\n",
        "  yearIndex = dft['year'] == year\n",
        "  df_aux = dft[yearIndex]\n",
        "  dict_years[year] = df_aux\n",
        "  dict_years[year] = dict_years[year].drop(labels='year',axis=1)\n"
      ],
      "metadata": {
        "id": "KudO90_UQDKK"
      },
      "execution_count": 6,
      "outputs": []
    },
    {
      "cell_type": "markdown",
      "source": [
        "###Visualizando o número de observações de cada pesquisa"
      ],
      "metadata": {
        "id": "lop_5_hQV9Qo"
      }
    },
    {
      "cell_type": "code",
      "source": [
        "print('O número de observações em cada ano é:')\n",
        "sum = 0\n",
        "for year in anos:\n",
        "  print( year, ': ', dict_years[year].shape[0])"
      ],
      "metadata": {
        "colab": {
          "base_uri": "https://localhost:8080/"
        },
        "id": "of5NxRgmVwqQ",
        "outputId": "ed97d48a-b71a-479f-833d-64402872afe8"
      },
      "execution_count": 7,
      "outputs": [
        {
          "output_type": "stream",
          "name": "stdout",
          "text": [
            "O número de observações em cada ano é:\n",
            "2005 :  27\n",
            "2006 :  89\n",
            "2007 :  102\n",
            "2008 :  110\n",
            "2009 :  114\n",
            "2010 :  124\n",
            "2011 :  146\n",
            "2012 :  142\n",
            "2013 :  137\n",
            "2014 :  145\n",
            "2015 :  143\n",
            "2016 :  142\n",
            "2017 :  147\n",
            "2018 :  142\n",
            "2019 :  144\n",
            "2020 :  95\n"
          ]
        }
      ]
    },
    {
      "cell_type": "markdown",
      "source": [
        "Como as tabelas de cada ano não possuem a mesma quantidade de observações, precisamos lidar com esse problema antes de realizarmos a análise de nossos dados"
      ],
      "metadata": {
        "id": "YZeEifKjh4Je"
      }
    },
    {
      "cell_type": "markdown",
      "source": [
        "<p>Pensando no contexto dos em que esses estudos foram realizados, podemos deixar de usar os dados dos anos com menos participantes por uma série de motivos:\n",
        "  <ul>\n",
        "    <li>Aumentar os países que participaram frequentemente das pesquisas</li>\n",
        "    <li>Países que participaram poucas vezes não apresentam dados suficientes para serem analisados ao passar dos anos</li>\n",
        "    <li>Analisando um período menor, vamos ter mais países que participaram frequentemente da pesquisa</li>\n",
        "  </ul>\n",
        "</p>\n",
        "<p>Assim, seria interessante definirmos um limiar para decidirmos se vamos incluir ou excluir a data</p>\n"
      ],
      "metadata": {
        "id": "ST0DBWXPldgY"
      }
    },
    {
      "cell_type": "markdown",
      "source": [
        "Iremos utilizar a média como limiar para participação ou não da nossa análise"
      ],
      "metadata": {
        "id": "ZpPqcNWiW2-b"
      }
    },
    {
      "cell_type": "code",
      "source": [
        "mediaParticipantes = round((dft.shape[0] + df21.shape[0])/17, 2)\n",
        "print('A média de paises participantes em cada pesquisa é de: ', mediaParticipantes )"
      ],
      "metadata": {
        "colab": {
          "base_uri": "https://localhost:8080/"
        },
        "id": "aEhss6dtXOHW",
        "outputId": "d30988f0-ec3a-4664-bf1c-5d5c15e77641"
      },
      "execution_count": 8,
      "outputs": [
        {
          "output_type": "stream",
          "name": "stdout",
          "text": [
            "A média de paises participantes em cada pesquisa é de:  123.41\n"
          ]
        }
      ]
    },
    {
      "cell_type": "code",
      "source": [
        "for year in anos:\n",
        "  if dict_years[year].shape[0] < mediaParticipantes:\n",
        "    del dict_years[year]\n",
        "\n",
        "anos = list(dict_years.keys())"
      ],
      "metadata": {
        "id": "EK9_rpmOYWre"
      },
      "execution_count": 9,
      "outputs": []
    },
    {
      "cell_type": "markdown",
      "source": [
        "##Tabela 'world-happiness-report-2021'"
      ],
      "metadata": {
        "id": "NKGtwJuMOeoN"
      }
    },
    {
      "cell_type": "markdown",
      "source": [
        "Assim, como feito anteriormente, vamos dar uma breve olhada para interpretarmos o conteúdo da tabela correspondente a 2021"
      ],
      "metadata": {
        "id": "ZqiflCEOi-89"
      }
    },
    {
      "cell_type": "code",
      "source": [
        "df21.head(2)"
      ],
      "metadata": {
        "colab": {
          "base_uri": "https://localhost:8080/",
          "height": 298
        },
        "id": "ysxOWPADOiQK",
        "outputId": "492c9ed4-8206-46ec-e38c-4bc000900f14"
      },
      "execution_count": 10,
      "outputs": [
        {
          "output_type": "execute_result",
          "data": {
            "text/html": [
              "\n",
              "  <div id=\"df-10942b73-1c3e-4808-afe6-7e3d0e9a1c17\">\n",
              "    <div class=\"colab-df-container\">\n",
              "      <div>\n",
              "<style scoped>\n",
              "    .dataframe tbody tr th:only-of-type {\n",
              "        vertical-align: middle;\n",
              "    }\n",
              "\n",
              "    .dataframe tbody tr th {\n",
              "        vertical-align: top;\n",
              "    }\n",
              "\n",
              "    .dataframe thead th {\n",
              "        text-align: right;\n",
              "    }\n",
              "</style>\n",
              "<table border=\"1\" class=\"dataframe\">\n",
              "  <thead>\n",
              "    <tr style=\"text-align: right;\">\n",
              "      <th></th>\n",
              "      <th>Country name</th>\n",
              "      <th>Regional indicator</th>\n",
              "      <th>Ladder score</th>\n",
              "      <th>Standard error of ladder score</th>\n",
              "      <th>upperwhisker</th>\n",
              "      <th>lowerwhisker</th>\n",
              "      <th>Logged GDP per capita</th>\n",
              "      <th>Social support</th>\n",
              "      <th>Healthy life expectancy</th>\n",
              "      <th>Freedom to make life choices</th>\n",
              "      <th>Generosity</th>\n",
              "      <th>Perceptions of corruption</th>\n",
              "      <th>Ladder score in Dystopia</th>\n",
              "      <th>Explained by: Log GDP per capita</th>\n",
              "      <th>Explained by: Social support</th>\n",
              "      <th>Explained by: Healthy life expectancy</th>\n",
              "      <th>Explained by: Freedom to make life choices</th>\n",
              "      <th>Explained by: Generosity</th>\n",
              "      <th>Explained by: Perceptions of corruption</th>\n",
              "      <th>Dystopia + residual</th>\n",
              "    </tr>\n",
              "  </thead>\n",
              "  <tbody>\n",
              "    <tr>\n",
              "      <th>0</th>\n",
              "      <td>Finland</td>\n",
              "      <td>Western Europe</td>\n",
              "      <td>7.842</td>\n",
              "      <td>0.032</td>\n",
              "      <td>7.904</td>\n",
              "      <td>7.780</td>\n",
              "      <td>10.775</td>\n",
              "      <td>0.954</td>\n",
              "      <td>72.0</td>\n",
              "      <td>0.949</td>\n",
              "      <td>-0.098</td>\n",
              "      <td>0.186</td>\n",
              "      <td>2.43</td>\n",
              "      <td>1.446</td>\n",
              "      <td>1.106</td>\n",
              "      <td>0.741</td>\n",
              "      <td>0.691</td>\n",
              "      <td>0.124</td>\n",
              "      <td>0.481</td>\n",
              "      <td>3.253</td>\n",
              "    </tr>\n",
              "    <tr>\n",
              "      <th>1</th>\n",
              "      <td>Denmark</td>\n",
              "      <td>Western Europe</td>\n",
              "      <td>7.620</td>\n",
              "      <td>0.035</td>\n",
              "      <td>7.687</td>\n",
              "      <td>7.552</td>\n",
              "      <td>10.933</td>\n",
              "      <td>0.954</td>\n",
              "      <td>72.7</td>\n",
              "      <td>0.946</td>\n",
              "      <td>0.030</td>\n",
              "      <td>0.179</td>\n",
              "      <td>2.43</td>\n",
              "      <td>1.502</td>\n",
              "      <td>1.108</td>\n",
              "      <td>0.763</td>\n",
              "      <td>0.686</td>\n",
              "      <td>0.208</td>\n",
              "      <td>0.485</td>\n",
              "      <td>2.868</td>\n",
              "    </tr>\n",
              "  </tbody>\n",
              "</table>\n",
              "</div>\n",
              "      <button class=\"colab-df-convert\" onclick=\"convertToInteractive('df-10942b73-1c3e-4808-afe6-7e3d0e9a1c17')\"\n",
              "              title=\"Convert this dataframe to an interactive table.\"\n",
              "              style=\"display:none;\">\n",
              "        \n",
              "  <svg xmlns=\"http://www.w3.org/2000/svg\" height=\"24px\"viewBox=\"0 0 24 24\"\n",
              "       width=\"24px\">\n",
              "    <path d=\"M0 0h24v24H0V0z\" fill=\"none\"/>\n",
              "    <path d=\"M18.56 5.44l.94 2.06.94-2.06 2.06-.94-2.06-.94-.94-2.06-.94 2.06-2.06.94zm-11 1L8.5 8.5l.94-2.06 2.06-.94-2.06-.94L8.5 2.5l-.94 2.06-2.06.94zm10 10l.94 2.06.94-2.06 2.06-.94-2.06-.94-.94-2.06-.94 2.06-2.06.94z\"/><path d=\"M17.41 7.96l-1.37-1.37c-.4-.4-.92-.59-1.43-.59-.52 0-1.04.2-1.43.59L10.3 9.45l-7.72 7.72c-.78.78-.78 2.05 0 2.83L4 21.41c.39.39.9.59 1.41.59.51 0 1.02-.2 1.41-.59l7.78-7.78 2.81-2.81c.8-.78.8-2.07 0-2.86zM5.41 20L4 18.59l7.72-7.72 1.47 1.35L5.41 20z\"/>\n",
              "  </svg>\n",
              "      </button>\n",
              "      \n",
              "  <style>\n",
              "    .colab-df-container {\n",
              "      display:flex;\n",
              "      flex-wrap:wrap;\n",
              "      gap: 12px;\n",
              "    }\n",
              "\n",
              "    .colab-df-convert {\n",
              "      background-color: #E8F0FE;\n",
              "      border: none;\n",
              "      border-radius: 50%;\n",
              "      cursor: pointer;\n",
              "      display: none;\n",
              "      fill: #1967D2;\n",
              "      height: 32px;\n",
              "      padding: 0 0 0 0;\n",
              "      width: 32px;\n",
              "    }\n",
              "\n",
              "    .colab-df-convert:hover {\n",
              "      background-color: #E2EBFA;\n",
              "      box-shadow: 0px 1px 2px rgba(60, 64, 67, 0.3), 0px 1px 3px 1px rgba(60, 64, 67, 0.15);\n",
              "      fill: #174EA6;\n",
              "    }\n",
              "\n",
              "    [theme=dark] .colab-df-convert {\n",
              "      background-color: #3B4455;\n",
              "      fill: #D2E3FC;\n",
              "    }\n",
              "\n",
              "    [theme=dark] .colab-df-convert:hover {\n",
              "      background-color: #434B5C;\n",
              "      box-shadow: 0px 1px 3px 1px rgba(0, 0, 0, 0.15);\n",
              "      filter: drop-shadow(0px 1px 2px rgba(0, 0, 0, 0.3));\n",
              "      fill: #FFFFFF;\n",
              "    }\n",
              "  </style>\n",
              "\n",
              "      <script>\n",
              "        const buttonEl =\n",
              "          document.querySelector('#df-10942b73-1c3e-4808-afe6-7e3d0e9a1c17 button.colab-df-convert');\n",
              "        buttonEl.style.display =\n",
              "          google.colab.kernel.accessAllowed ? 'block' : 'none';\n",
              "\n",
              "        async function convertToInteractive(key) {\n",
              "          const element = document.querySelector('#df-10942b73-1c3e-4808-afe6-7e3d0e9a1c17');\n",
              "          const dataTable =\n",
              "            await google.colab.kernel.invokeFunction('convertToInteractive',\n",
              "                                                     [key], {});\n",
              "          if (!dataTable) return;\n",
              "\n",
              "          const docLinkHtml = 'Like what you see? Visit the ' +\n",
              "            '<a target=\"_blank\" href=https://colab.research.google.com/notebooks/data_table.ipynb>data table notebook</a>'\n",
              "            + ' to learn more about interactive tables.';\n",
              "          element.innerHTML = '';\n",
              "          dataTable['output_type'] = 'display_data';\n",
              "          await google.colab.output.renderOutput(dataTable, element);\n",
              "          const docLink = document.createElement('div');\n",
              "          docLink.innerHTML = docLinkHtml;\n",
              "          element.appendChild(docLink);\n",
              "        }\n",
              "      </script>\n",
              "    </div>\n",
              "  </div>\n",
              "  "
            ],
            "text/plain": [
              "  Country name  ... Dystopia + residual\n",
              "0      Finland  ...               3.253\n",
              "1      Denmark  ...               2.868\n",
              "\n",
              "[2 rows x 20 columns]"
            ]
          },
          "metadata": {},
          "execution_count": 10
        }
      ]
    },
    {
      "cell_type": "markdown",
      "source": [
        "Diferente da tabela anterior, essa tabela apresenta as observações de apenas um ano (2020) da pesquisa."
      ],
      "metadata": {
        "id": "eWve4njtjHwb"
      }
    },
    {
      "cell_type": "markdown",
      "source": [
        "Além disso, as observações estrapolam o limiar que decidimos anteriormente, logo se utilizarmos esses dados seguiremos coerentes"
      ],
      "metadata": {
        "id": "BqzpwcCVZqd3"
      }
    },
    {
      "cell_type": "markdown",
      "source": [
        "##Comparando o conteúdo das tabelas"
      ],
      "metadata": {
        "id": "dI3kDGspkd9J"
      }
    },
    {
      "cell_type": "markdown",
      "source": [
        "É possível perceber rapidamente que as instâncias dessa tabela possuem mais propriedades do que a tabela anterior. Vamos analisar quais são as propriedades compartilhadas por ambas as tabelas"
      ],
      "metadata": {
        "id": "xJ7G61-wjPg7"
      }
    },
    {
      "cell_type": "code",
      "source": [
        "df_columns = pd.DataFrame()\n",
        "df_columns = pd.concat( [ pd.DataFrame(dft.columns.tolist()), pd.DataFrame(df21.columns.tolist()) ], axis=1 )\n",
        "df_columns.set_axis(['2005-2020 database columns','2021 database columns'], axis=1, inplace=True)\n",
        "\n",
        "df_columns"
      ],
      "metadata": {
        "colab": {
          "base_uri": "https://localhost:8080/",
          "height": 677
        },
        "id": "xPB16s_v6bx7",
        "outputId": "1f8fe75c-98a0-482a-88fc-89b2b785a588"
      },
      "execution_count": 11,
      "outputs": [
        {
          "output_type": "execute_result",
          "data": {
            "text/html": [
              "\n",
              "  <div id=\"df-340ff674-f788-4447-b272-b208af94749d\">\n",
              "    <div class=\"colab-df-container\">\n",
              "      <div>\n",
              "<style scoped>\n",
              "    .dataframe tbody tr th:only-of-type {\n",
              "        vertical-align: middle;\n",
              "    }\n",
              "\n",
              "    .dataframe tbody tr th {\n",
              "        vertical-align: top;\n",
              "    }\n",
              "\n",
              "    .dataframe thead th {\n",
              "        text-align: right;\n",
              "    }\n",
              "</style>\n",
              "<table border=\"1\" class=\"dataframe\">\n",
              "  <thead>\n",
              "    <tr style=\"text-align: right;\">\n",
              "      <th></th>\n",
              "      <th>2005-2020 database columns</th>\n",
              "      <th>2021 database columns</th>\n",
              "    </tr>\n",
              "  </thead>\n",
              "  <tbody>\n",
              "    <tr>\n",
              "      <th>0</th>\n",
              "      <td>Country name</td>\n",
              "      <td>Country name</td>\n",
              "    </tr>\n",
              "    <tr>\n",
              "      <th>1</th>\n",
              "      <td>year</td>\n",
              "      <td>Regional indicator</td>\n",
              "    </tr>\n",
              "    <tr>\n",
              "      <th>2</th>\n",
              "      <td>Life Ladder</td>\n",
              "      <td>Ladder score</td>\n",
              "    </tr>\n",
              "    <tr>\n",
              "      <th>3</th>\n",
              "      <td>Log GDP per capita</td>\n",
              "      <td>Standard error of ladder score</td>\n",
              "    </tr>\n",
              "    <tr>\n",
              "      <th>4</th>\n",
              "      <td>Social support</td>\n",
              "      <td>upperwhisker</td>\n",
              "    </tr>\n",
              "    <tr>\n",
              "      <th>5</th>\n",
              "      <td>Healthy life expectancy at birth</td>\n",
              "      <td>lowerwhisker</td>\n",
              "    </tr>\n",
              "    <tr>\n",
              "      <th>6</th>\n",
              "      <td>Freedom to make life choices</td>\n",
              "      <td>Logged GDP per capita</td>\n",
              "    </tr>\n",
              "    <tr>\n",
              "      <th>7</th>\n",
              "      <td>Generosity</td>\n",
              "      <td>Social support</td>\n",
              "    </tr>\n",
              "    <tr>\n",
              "      <th>8</th>\n",
              "      <td>Perceptions of corruption</td>\n",
              "      <td>Healthy life expectancy</td>\n",
              "    </tr>\n",
              "    <tr>\n",
              "      <th>9</th>\n",
              "      <td>Positive affect</td>\n",
              "      <td>Freedom to make life choices</td>\n",
              "    </tr>\n",
              "    <tr>\n",
              "      <th>10</th>\n",
              "      <td>Negative affect</td>\n",
              "      <td>Generosity</td>\n",
              "    </tr>\n",
              "    <tr>\n",
              "      <th>11</th>\n",
              "      <td>NaN</td>\n",
              "      <td>Perceptions of corruption</td>\n",
              "    </tr>\n",
              "    <tr>\n",
              "      <th>12</th>\n",
              "      <td>NaN</td>\n",
              "      <td>Ladder score in Dystopia</td>\n",
              "    </tr>\n",
              "    <tr>\n",
              "      <th>13</th>\n",
              "      <td>NaN</td>\n",
              "      <td>Explained by: Log GDP per capita</td>\n",
              "    </tr>\n",
              "    <tr>\n",
              "      <th>14</th>\n",
              "      <td>NaN</td>\n",
              "      <td>Explained by: Social support</td>\n",
              "    </tr>\n",
              "    <tr>\n",
              "      <th>15</th>\n",
              "      <td>NaN</td>\n",
              "      <td>Explained by: Healthy life expectancy</td>\n",
              "    </tr>\n",
              "    <tr>\n",
              "      <th>16</th>\n",
              "      <td>NaN</td>\n",
              "      <td>Explained by: Freedom to make life choices</td>\n",
              "    </tr>\n",
              "    <tr>\n",
              "      <th>17</th>\n",
              "      <td>NaN</td>\n",
              "      <td>Explained by: Generosity</td>\n",
              "    </tr>\n",
              "    <tr>\n",
              "      <th>18</th>\n",
              "      <td>NaN</td>\n",
              "      <td>Explained by: Perceptions of corruption</td>\n",
              "    </tr>\n",
              "    <tr>\n",
              "      <th>19</th>\n",
              "      <td>NaN</td>\n",
              "      <td>Dystopia + residual</td>\n",
              "    </tr>\n",
              "  </tbody>\n",
              "</table>\n",
              "</div>\n",
              "      <button class=\"colab-df-convert\" onclick=\"convertToInteractive('df-340ff674-f788-4447-b272-b208af94749d')\"\n",
              "              title=\"Convert this dataframe to an interactive table.\"\n",
              "              style=\"display:none;\">\n",
              "        \n",
              "  <svg xmlns=\"http://www.w3.org/2000/svg\" height=\"24px\"viewBox=\"0 0 24 24\"\n",
              "       width=\"24px\">\n",
              "    <path d=\"M0 0h24v24H0V0z\" fill=\"none\"/>\n",
              "    <path d=\"M18.56 5.44l.94 2.06.94-2.06 2.06-.94-2.06-.94-.94-2.06-.94 2.06-2.06.94zm-11 1L8.5 8.5l.94-2.06 2.06-.94-2.06-.94L8.5 2.5l-.94 2.06-2.06.94zm10 10l.94 2.06.94-2.06 2.06-.94-2.06-.94-.94-2.06-.94 2.06-2.06.94z\"/><path d=\"M17.41 7.96l-1.37-1.37c-.4-.4-.92-.59-1.43-.59-.52 0-1.04.2-1.43.59L10.3 9.45l-7.72 7.72c-.78.78-.78 2.05 0 2.83L4 21.41c.39.39.9.59 1.41.59.51 0 1.02-.2 1.41-.59l7.78-7.78 2.81-2.81c.8-.78.8-2.07 0-2.86zM5.41 20L4 18.59l7.72-7.72 1.47 1.35L5.41 20z\"/>\n",
              "  </svg>\n",
              "      </button>\n",
              "      \n",
              "  <style>\n",
              "    .colab-df-container {\n",
              "      display:flex;\n",
              "      flex-wrap:wrap;\n",
              "      gap: 12px;\n",
              "    }\n",
              "\n",
              "    .colab-df-convert {\n",
              "      background-color: #E8F0FE;\n",
              "      border: none;\n",
              "      border-radius: 50%;\n",
              "      cursor: pointer;\n",
              "      display: none;\n",
              "      fill: #1967D2;\n",
              "      height: 32px;\n",
              "      padding: 0 0 0 0;\n",
              "      width: 32px;\n",
              "    }\n",
              "\n",
              "    .colab-df-convert:hover {\n",
              "      background-color: #E2EBFA;\n",
              "      box-shadow: 0px 1px 2px rgba(60, 64, 67, 0.3), 0px 1px 3px 1px rgba(60, 64, 67, 0.15);\n",
              "      fill: #174EA6;\n",
              "    }\n",
              "\n",
              "    [theme=dark] .colab-df-convert {\n",
              "      background-color: #3B4455;\n",
              "      fill: #D2E3FC;\n",
              "    }\n",
              "\n",
              "    [theme=dark] .colab-df-convert:hover {\n",
              "      background-color: #434B5C;\n",
              "      box-shadow: 0px 1px 3px 1px rgba(0, 0, 0, 0.15);\n",
              "      filter: drop-shadow(0px 1px 2px rgba(0, 0, 0, 0.3));\n",
              "      fill: #FFFFFF;\n",
              "    }\n",
              "  </style>\n",
              "\n",
              "      <script>\n",
              "        const buttonEl =\n",
              "          document.querySelector('#df-340ff674-f788-4447-b272-b208af94749d button.colab-df-convert');\n",
              "        buttonEl.style.display =\n",
              "          google.colab.kernel.accessAllowed ? 'block' : 'none';\n",
              "\n",
              "        async function convertToInteractive(key) {\n",
              "          const element = document.querySelector('#df-340ff674-f788-4447-b272-b208af94749d');\n",
              "          const dataTable =\n",
              "            await google.colab.kernel.invokeFunction('convertToInteractive',\n",
              "                                                     [key], {});\n",
              "          if (!dataTable) return;\n",
              "\n",
              "          const docLinkHtml = 'Like what you see? Visit the ' +\n",
              "            '<a target=\"_blank\" href=https://colab.research.google.com/notebooks/data_table.ipynb>data table notebook</a>'\n",
              "            + ' to learn more about interactive tables.';\n",
              "          element.innerHTML = '';\n",
              "          dataTable['output_type'] = 'display_data';\n",
              "          await google.colab.output.renderOutput(dataTable, element);\n",
              "          const docLink = document.createElement('div');\n",
              "          docLink.innerHTML = docLinkHtml;\n",
              "          element.appendChild(docLink);\n",
              "        }\n",
              "      </script>\n",
              "    </div>\n",
              "  </div>\n",
              "  "
            ],
            "text/plain": [
              "          2005-2020 database columns                       2021 database columns\n",
              "0                       Country name                                Country name\n",
              "1                               year                          Regional indicator\n",
              "2                        Life Ladder                                Ladder score\n",
              "3                 Log GDP per capita              Standard error of ladder score\n",
              "4                     Social support                                upperwhisker\n",
              "5   Healthy life expectancy at birth                                lowerwhisker\n",
              "6       Freedom to make life choices                       Logged GDP per capita\n",
              "7                         Generosity                              Social support\n",
              "8          Perceptions of corruption                     Healthy life expectancy\n",
              "9                    Positive affect                Freedom to make life choices\n",
              "10                   Negative affect                                  Generosity\n",
              "11                               NaN                   Perceptions of corruption\n",
              "12                               NaN                    Ladder score in Dystopia\n",
              "13                               NaN            Explained by: Log GDP per capita\n",
              "14                               NaN                Explained by: Social support\n",
              "15                               NaN       Explained by: Healthy life expectancy\n",
              "16                               NaN  Explained by: Freedom to make life choices\n",
              "17                               NaN                    Explained by: Generosity\n",
              "18                               NaN     Explained by: Perceptions of corruption\n",
              "19                               NaN                         Dystopia + residual"
            ]
          },
          "metadata": {},
          "execution_count": 11
        }
      ]
    },
    {
      "cell_type": "markdown",
      "source": [
        "Conseguimos ver que a tabela do ano de 2020 possuí uma série de outras colunas quando comparada com a tabela dos outros anos. Assim, para realizarmos nossas análises, precisamos reformatar as tabelas com parametros que elas possuem em comum."
      ],
      "metadata": {
        "id": "OoJ5_0TFMlOE"
      }
    },
    {
      "cell_type": "markdown",
      "source": [
        "##Reformatando as tabelas"
      ],
      "metadata": {
        "id": "6RWscSedlCyP"
      }
    },
    {
      "cell_type": "markdown",
      "source": [
        "Primeiramente, adicionaremos a nossa tabela de 2021 para o nosso dicionário de tabelas"
      ],
      "metadata": {
        "id": "EGiUwCfelG-G"
      }
    },
    {
      "cell_type": "code",
      "source": [
        "dict_years[2021] = df21\n",
        "dict_years[2021].head(2)"
      ],
      "metadata": {
        "colab": {
          "base_uri": "https://localhost:8080/",
          "height": 298
        },
        "id": "GA5viFhqOD5t",
        "outputId": "710a362b-45ab-473b-84ef-01a932f5e13d"
      },
      "execution_count": 12,
      "outputs": [
        {
          "output_type": "execute_result",
          "data": {
            "text/html": [
              "\n",
              "  <div id=\"df-bc5aea94-601d-429f-8def-5d41e134ea9a\">\n",
              "    <div class=\"colab-df-container\">\n",
              "      <div>\n",
              "<style scoped>\n",
              "    .dataframe tbody tr th:only-of-type {\n",
              "        vertical-align: middle;\n",
              "    }\n",
              "\n",
              "    .dataframe tbody tr th {\n",
              "        vertical-align: top;\n",
              "    }\n",
              "\n",
              "    .dataframe thead th {\n",
              "        text-align: right;\n",
              "    }\n",
              "</style>\n",
              "<table border=\"1\" class=\"dataframe\">\n",
              "  <thead>\n",
              "    <tr style=\"text-align: right;\">\n",
              "      <th></th>\n",
              "      <th>Country name</th>\n",
              "      <th>Regional indicator</th>\n",
              "      <th>Ladder score</th>\n",
              "      <th>Standard error of ladder score</th>\n",
              "      <th>upperwhisker</th>\n",
              "      <th>lowerwhisker</th>\n",
              "      <th>Logged GDP per capita</th>\n",
              "      <th>Social support</th>\n",
              "      <th>Healthy life expectancy</th>\n",
              "      <th>Freedom to make life choices</th>\n",
              "      <th>Generosity</th>\n",
              "      <th>Perceptions of corruption</th>\n",
              "      <th>Ladder score in Dystopia</th>\n",
              "      <th>Explained by: Log GDP per capita</th>\n",
              "      <th>Explained by: Social support</th>\n",
              "      <th>Explained by: Healthy life expectancy</th>\n",
              "      <th>Explained by: Freedom to make life choices</th>\n",
              "      <th>Explained by: Generosity</th>\n",
              "      <th>Explained by: Perceptions of corruption</th>\n",
              "      <th>Dystopia + residual</th>\n",
              "    </tr>\n",
              "  </thead>\n",
              "  <tbody>\n",
              "    <tr>\n",
              "      <th>0</th>\n",
              "      <td>Finland</td>\n",
              "      <td>Western Europe</td>\n",
              "      <td>7.842</td>\n",
              "      <td>0.032</td>\n",
              "      <td>7.904</td>\n",
              "      <td>7.780</td>\n",
              "      <td>10.775</td>\n",
              "      <td>0.954</td>\n",
              "      <td>72.0</td>\n",
              "      <td>0.949</td>\n",
              "      <td>-0.098</td>\n",
              "      <td>0.186</td>\n",
              "      <td>2.43</td>\n",
              "      <td>1.446</td>\n",
              "      <td>1.106</td>\n",
              "      <td>0.741</td>\n",
              "      <td>0.691</td>\n",
              "      <td>0.124</td>\n",
              "      <td>0.481</td>\n",
              "      <td>3.253</td>\n",
              "    </tr>\n",
              "    <tr>\n",
              "      <th>1</th>\n",
              "      <td>Denmark</td>\n",
              "      <td>Western Europe</td>\n",
              "      <td>7.620</td>\n",
              "      <td>0.035</td>\n",
              "      <td>7.687</td>\n",
              "      <td>7.552</td>\n",
              "      <td>10.933</td>\n",
              "      <td>0.954</td>\n",
              "      <td>72.7</td>\n",
              "      <td>0.946</td>\n",
              "      <td>0.030</td>\n",
              "      <td>0.179</td>\n",
              "      <td>2.43</td>\n",
              "      <td>1.502</td>\n",
              "      <td>1.108</td>\n",
              "      <td>0.763</td>\n",
              "      <td>0.686</td>\n",
              "      <td>0.208</td>\n",
              "      <td>0.485</td>\n",
              "      <td>2.868</td>\n",
              "    </tr>\n",
              "  </tbody>\n",
              "</table>\n",
              "</div>\n",
              "      <button class=\"colab-df-convert\" onclick=\"convertToInteractive('df-bc5aea94-601d-429f-8def-5d41e134ea9a')\"\n",
              "              title=\"Convert this dataframe to an interactive table.\"\n",
              "              style=\"display:none;\">\n",
              "        \n",
              "  <svg xmlns=\"http://www.w3.org/2000/svg\" height=\"24px\"viewBox=\"0 0 24 24\"\n",
              "       width=\"24px\">\n",
              "    <path d=\"M0 0h24v24H0V0z\" fill=\"none\"/>\n",
              "    <path d=\"M18.56 5.44l.94 2.06.94-2.06 2.06-.94-2.06-.94-.94-2.06-.94 2.06-2.06.94zm-11 1L8.5 8.5l.94-2.06 2.06-.94-2.06-.94L8.5 2.5l-.94 2.06-2.06.94zm10 10l.94 2.06.94-2.06 2.06-.94-2.06-.94-.94-2.06-.94 2.06-2.06.94z\"/><path d=\"M17.41 7.96l-1.37-1.37c-.4-.4-.92-.59-1.43-.59-.52 0-1.04.2-1.43.59L10.3 9.45l-7.72 7.72c-.78.78-.78 2.05 0 2.83L4 21.41c.39.39.9.59 1.41.59.51 0 1.02-.2 1.41-.59l7.78-7.78 2.81-2.81c.8-.78.8-2.07 0-2.86zM5.41 20L4 18.59l7.72-7.72 1.47 1.35L5.41 20z\"/>\n",
              "  </svg>\n",
              "      </button>\n",
              "      \n",
              "  <style>\n",
              "    .colab-df-container {\n",
              "      display:flex;\n",
              "      flex-wrap:wrap;\n",
              "      gap: 12px;\n",
              "    }\n",
              "\n",
              "    .colab-df-convert {\n",
              "      background-color: #E8F0FE;\n",
              "      border: none;\n",
              "      border-radius: 50%;\n",
              "      cursor: pointer;\n",
              "      display: none;\n",
              "      fill: #1967D2;\n",
              "      height: 32px;\n",
              "      padding: 0 0 0 0;\n",
              "      width: 32px;\n",
              "    }\n",
              "\n",
              "    .colab-df-convert:hover {\n",
              "      background-color: #E2EBFA;\n",
              "      box-shadow: 0px 1px 2px rgba(60, 64, 67, 0.3), 0px 1px 3px 1px rgba(60, 64, 67, 0.15);\n",
              "      fill: #174EA6;\n",
              "    }\n",
              "\n",
              "    [theme=dark] .colab-df-convert {\n",
              "      background-color: #3B4455;\n",
              "      fill: #D2E3FC;\n",
              "    }\n",
              "\n",
              "    [theme=dark] .colab-df-convert:hover {\n",
              "      background-color: #434B5C;\n",
              "      box-shadow: 0px 1px 3px 1px rgba(0, 0, 0, 0.15);\n",
              "      filter: drop-shadow(0px 1px 2px rgba(0, 0, 0, 0.3));\n",
              "      fill: #FFFFFF;\n",
              "    }\n",
              "  </style>\n",
              "\n",
              "      <script>\n",
              "        const buttonEl =\n",
              "          document.querySelector('#df-bc5aea94-601d-429f-8def-5d41e134ea9a button.colab-df-convert');\n",
              "        buttonEl.style.display =\n",
              "          google.colab.kernel.accessAllowed ? 'block' : 'none';\n",
              "\n",
              "        async function convertToInteractive(key) {\n",
              "          const element = document.querySelector('#df-bc5aea94-601d-429f-8def-5d41e134ea9a');\n",
              "          const dataTable =\n",
              "            await google.colab.kernel.invokeFunction('convertToInteractive',\n",
              "                                                     [key], {});\n",
              "          if (!dataTable) return;\n",
              "\n",
              "          const docLinkHtml = 'Like what you see? Visit the ' +\n",
              "            '<a target=\"_blank\" href=https://colab.research.google.com/notebooks/data_table.ipynb>data table notebook</a>'\n",
              "            + ' to learn more about interactive tables.';\n",
              "          element.innerHTML = '';\n",
              "          dataTable['output_type'] = 'display_data';\n",
              "          await google.colab.output.renderOutput(dataTable, element);\n",
              "          const docLink = document.createElement('div');\n",
              "          docLink.innerHTML = docLinkHtml;\n",
              "          element.appendChild(docLink);\n",
              "        }\n",
              "      </script>\n",
              "    </div>\n",
              "  </div>\n",
              "  "
            ],
            "text/plain": [
              "  Country name  ... Dystopia + residual\n",
              "0      Finland  ...               3.253\n",
              "1      Denmark  ...               2.868\n",
              "\n",
              "[2 rows x 20 columns]"
            ]
          },
          "metadata": {},
          "execution_count": 12
        }
      ]
    },
    {
      "cell_type": "markdown",
      "source": [
        "Agora, vamos"
      ],
      "metadata": {
        "id": "tUXuah6blZN2"
      }
    },
    {
      "cell_type": "markdown",
      "source": [
        "<p>Através das exibições anteriores das tabelas, além da demonstração dos nomes das propriedades, podemos perceber que existem várias colunas das tabelas de dados que de duas uma:<p>\n",
        "<ul>\n",
        "  <li>Possuem o mesmo nome</li>\n",
        "  <li>Possuem o nome ligeiramente diferente</li>\n",
        "</ul>\n",
        "<p>Assim, cabe fazer uma analise, exibindo instancias das duas formatações de tabelas afim de percebermos aqueles parâmetros que são semelhantes.</p>\n",
        "<p> Para fazermos isso, utilizaremos a tabela correspondente ao ano de 2017, uma vez que é o ano que mais se aproxima com a quantidade de observações do ano de 2021<p>"
      ],
      "metadata": {
        "id": "vnuJOTwXoKi8"
      }
    },
    {
      "cell_type": "code",
      "source": [
        "d2021 = dict_years[2021]\n",
        "d2021[d2021['Country name'] == 'Brazil']"
      ],
      "metadata": {
        "colab": {
          "base_uri": "https://localhost:8080/",
          "height": 266
        },
        "id": "73CbtZ7b3VfT",
        "outputId": "7565412b-b498-4994-e9ae-44f74448281d"
      },
      "execution_count": 13,
      "outputs": [
        {
          "output_type": "execute_result",
          "data": {
            "text/html": [
              "\n",
              "  <div id=\"df-730db468-e7a9-407c-a4c1-c14ff0221f7b\">\n",
              "    <div class=\"colab-df-container\">\n",
              "      <div>\n",
              "<style scoped>\n",
              "    .dataframe tbody tr th:only-of-type {\n",
              "        vertical-align: middle;\n",
              "    }\n",
              "\n",
              "    .dataframe tbody tr th {\n",
              "        vertical-align: top;\n",
              "    }\n",
              "\n",
              "    .dataframe thead th {\n",
              "        text-align: right;\n",
              "    }\n",
              "</style>\n",
              "<table border=\"1\" class=\"dataframe\">\n",
              "  <thead>\n",
              "    <tr style=\"text-align: right;\">\n",
              "      <th></th>\n",
              "      <th>Country name</th>\n",
              "      <th>Regional indicator</th>\n",
              "      <th>Ladder score</th>\n",
              "      <th>Standard error of ladder score</th>\n",
              "      <th>upperwhisker</th>\n",
              "      <th>lowerwhisker</th>\n",
              "      <th>Logged GDP per capita</th>\n",
              "      <th>Social support</th>\n",
              "      <th>Healthy life expectancy</th>\n",
              "      <th>Freedom to make life choices</th>\n",
              "      <th>Generosity</th>\n",
              "      <th>Perceptions of corruption</th>\n",
              "      <th>Ladder score in Dystopia</th>\n",
              "      <th>Explained by: Log GDP per capita</th>\n",
              "      <th>Explained by: Social support</th>\n",
              "      <th>Explained by: Healthy life expectancy</th>\n",
              "      <th>Explained by: Freedom to make life choices</th>\n",
              "      <th>Explained by: Generosity</th>\n",
              "      <th>Explained by: Perceptions of corruption</th>\n",
              "      <th>Dystopia + residual</th>\n",
              "    </tr>\n",
              "  </thead>\n",
              "  <tbody>\n",
              "    <tr>\n",
              "      <th>34</th>\n",
              "      <td>Brazil</td>\n",
              "      <td>Latin America and Caribbean</td>\n",
              "      <td>6.33</td>\n",
              "      <td>0.043</td>\n",
              "      <td>6.415</td>\n",
              "      <td>6.245</td>\n",
              "      <td>9.577</td>\n",
              "      <td>0.882</td>\n",
              "      <td>66.601</td>\n",
              "      <td>0.804</td>\n",
              "      <td>-0.071</td>\n",
              "      <td>0.756</td>\n",
              "      <td>2.43</td>\n",
              "      <td>1.028</td>\n",
              "      <td>0.944</td>\n",
              "      <td>0.571</td>\n",
              "      <td>0.514</td>\n",
              "      <td>0.142</td>\n",
              "      <td>0.117</td>\n",
              "      <td>3.015</td>\n",
              "    </tr>\n",
              "  </tbody>\n",
              "</table>\n",
              "</div>\n",
              "      <button class=\"colab-df-convert\" onclick=\"convertToInteractive('df-730db468-e7a9-407c-a4c1-c14ff0221f7b')\"\n",
              "              title=\"Convert this dataframe to an interactive table.\"\n",
              "              style=\"display:none;\">\n",
              "        \n",
              "  <svg xmlns=\"http://www.w3.org/2000/svg\" height=\"24px\"viewBox=\"0 0 24 24\"\n",
              "       width=\"24px\">\n",
              "    <path d=\"M0 0h24v24H0V0z\" fill=\"none\"/>\n",
              "    <path d=\"M18.56 5.44l.94 2.06.94-2.06 2.06-.94-2.06-.94-.94-2.06-.94 2.06-2.06.94zm-11 1L8.5 8.5l.94-2.06 2.06-.94-2.06-.94L8.5 2.5l-.94 2.06-2.06.94zm10 10l.94 2.06.94-2.06 2.06-.94-2.06-.94-.94-2.06-.94 2.06-2.06.94z\"/><path d=\"M17.41 7.96l-1.37-1.37c-.4-.4-.92-.59-1.43-.59-.52 0-1.04.2-1.43.59L10.3 9.45l-7.72 7.72c-.78.78-.78 2.05 0 2.83L4 21.41c.39.39.9.59 1.41.59.51 0 1.02-.2 1.41-.59l7.78-7.78 2.81-2.81c.8-.78.8-2.07 0-2.86zM5.41 20L4 18.59l7.72-7.72 1.47 1.35L5.41 20z\"/>\n",
              "  </svg>\n",
              "      </button>\n",
              "      \n",
              "  <style>\n",
              "    .colab-df-container {\n",
              "      display:flex;\n",
              "      flex-wrap:wrap;\n",
              "      gap: 12px;\n",
              "    }\n",
              "\n",
              "    .colab-df-convert {\n",
              "      background-color: #E8F0FE;\n",
              "      border: none;\n",
              "      border-radius: 50%;\n",
              "      cursor: pointer;\n",
              "      display: none;\n",
              "      fill: #1967D2;\n",
              "      height: 32px;\n",
              "      padding: 0 0 0 0;\n",
              "      width: 32px;\n",
              "    }\n",
              "\n",
              "    .colab-df-convert:hover {\n",
              "      background-color: #E2EBFA;\n",
              "      box-shadow: 0px 1px 2px rgba(60, 64, 67, 0.3), 0px 1px 3px 1px rgba(60, 64, 67, 0.15);\n",
              "      fill: #174EA6;\n",
              "    }\n",
              "\n",
              "    [theme=dark] .colab-df-convert {\n",
              "      background-color: #3B4455;\n",
              "      fill: #D2E3FC;\n",
              "    }\n",
              "\n",
              "    [theme=dark] .colab-df-convert:hover {\n",
              "      background-color: #434B5C;\n",
              "      box-shadow: 0px 1px 3px 1px rgba(0, 0, 0, 0.15);\n",
              "      filter: drop-shadow(0px 1px 2px rgba(0, 0, 0, 0.3));\n",
              "      fill: #FFFFFF;\n",
              "    }\n",
              "  </style>\n",
              "\n",
              "      <script>\n",
              "        const buttonEl =\n",
              "          document.querySelector('#df-730db468-e7a9-407c-a4c1-c14ff0221f7b button.colab-df-convert');\n",
              "        buttonEl.style.display =\n",
              "          google.colab.kernel.accessAllowed ? 'block' : 'none';\n",
              "\n",
              "        async function convertToInteractive(key) {\n",
              "          const element = document.querySelector('#df-730db468-e7a9-407c-a4c1-c14ff0221f7b');\n",
              "          const dataTable =\n",
              "            await google.colab.kernel.invokeFunction('convertToInteractive',\n",
              "                                                     [key], {});\n",
              "          if (!dataTable) return;\n",
              "\n",
              "          const docLinkHtml = 'Like what you see? Visit the ' +\n",
              "            '<a target=\"_blank\" href=https://colab.research.google.com/notebooks/data_table.ipynb>data table notebook</a>'\n",
              "            + ' to learn more about interactive tables.';\n",
              "          element.innerHTML = '';\n",
              "          dataTable['output_type'] = 'display_data';\n",
              "          await google.colab.output.renderOutput(dataTable, element);\n",
              "          const docLink = document.createElement('div');\n",
              "          docLink.innerHTML = docLinkHtml;\n",
              "          element.appendChild(docLink);\n",
              "        }\n",
              "      </script>\n",
              "    </div>\n",
              "  </div>\n",
              "  "
            ],
            "text/plain": [
              "   Country name  ... Dystopia + residual\n",
              "34       Brazil  ...               3.015\n",
              "\n",
              "[1 rows x 20 columns]"
            ]
          },
          "metadata": {},
          "execution_count": 13
        }
      ]
    },
    {
      "cell_type": "code",
      "source": [
        "d2017 = dict_years[2017]\n",
        "d2017[d2017['Country name'] == 'Brazil']"
      ],
      "metadata": {
        "colab": {
          "base_uri": "https://localhost:8080/",
          "height": 142
        },
        "id": "KHZzEb8Bo9Kv",
        "outputId": "89173ccd-a1f6-4b56-8058-0741613e03e1"
      },
      "execution_count": 14,
      "outputs": [
        {
          "output_type": "execute_result",
          "data": {
            "text/html": [
              "\n",
              "  <div id=\"df-6b557952-cc8c-4a10-b6cc-ae5c90d5f0e7\">\n",
              "    <div class=\"colab-df-container\">\n",
              "      <div>\n",
              "<style scoped>\n",
              "    .dataframe tbody tr th:only-of-type {\n",
              "        vertical-align: middle;\n",
              "    }\n",
              "\n",
              "    .dataframe tbody tr th {\n",
              "        vertical-align: top;\n",
              "    }\n",
              "\n",
              "    .dataframe thead th {\n",
              "        text-align: right;\n",
              "    }\n",
              "</style>\n",
              "<table border=\"1\" class=\"dataframe\">\n",
              "  <thead>\n",
              "    <tr style=\"text-align: right;\">\n",
              "      <th></th>\n",
              "      <th>Country name</th>\n",
              "      <th>Life Ladder</th>\n",
              "      <th>Log GDP per capita</th>\n",
              "      <th>Social support</th>\n",
              "      <th>Healthy life expectancy at birth</th>\n",
              "      <th>Freedom to make life choices</th>\n",
              "      <th>Generosity</th>\n",
              "      <th>Perceptions of corruption</th>\n",
              "      <th>Positive affect</th>\n",
              "      <th>Negative affect</th>\n",
              "    </tr>\n",
              "  </thead>\n",
              "  <tbody>\n",
              "    <tr>\n",
              "      <th>229</th>\n",
              "      <td>Brazil</td>\n",
              "      <td>6.333</td>\n",
              "      <td>9.583</td>\n",
              "      <td>0.905</td>\n",
              "      <td>66.2</td>\n",
              "      <td>0.765</td>\n",
              "      <td>-0.175</td>\n",
              "      <td>0.794</td>\n",
              "      <td>0.716</td>\n",
              "      <td>0.308</td>\n",
              "    </tr>\n",
              "  </tbody>\n",
              "</table>\n",
              "</div>\n",
              "      <button class=\"colab-df-convert\" onclick=\"convertToInteractive('df-6b557952-cc8c-4a10-b6cc-ae5c90d5f0e7')\"\n",
              "              title=\"Convert this dataframe to an interactive table.\"\n",
              "              style=\"display:none;\">\n",
              "        \n",
              "  <svg xmlns=\"http://www.w3.org/2000/svg\" height=\"24px\"viewBox=\"0 0 24 24\"\n",
              "       width=\"24px\">\n",
              "    <path d=\"M0 0h24v24H0V0z\" fill=\"none\"/>\n",
              "    <path d=\"M18.56 5.44l.94 2.06.94-2.06 2.06-.94-2.06-.94-.94-2.06-.94 2.06-2.06.94zm-11 1L8.5 8.5l.94-2.06 2.06-.94-2.06-.94L8.5 2.5l-.94 2.06-2.06.94zm10 10l.94 2.06.94-2.06 2.06-.94-2.06-.94-.94-2.06-.94 2.06-2.06.94z\"/><path d=\"M17.41 7.96l-1.37-1.37c-.4-.4-.92-.59-1.43-.59-.52 0-1.04.2-1.43.59L10.3 9.45l-7.72 7.72c-.78.78-.78 2.05 0 2.83L4 21.41c.39.39.9.59 1.41.59.51 0 1.02-.2 1.41-.59l7.78-7.78 2.81-2.81c.8-.78.8-2.07 0-2.86zM5.41 20L4 18.59l7.72-7.72 1.47 1.35L5.41 20z\"/>\n",
              "  </svg>\n",
              "      </button>\n",
              "      \n",
              "  <style>\n",
              "    .colab-df-container {\n",
              "      display:flex;\n",
              "      flex-wrap:wrap;\n",
              "      gap: 12px;\n",
              "    }\n",
              "\n",
              "    .colab-df-convert {\n",
              "      background-color: #E8F0FE;\n",
              "      border: none;\n",
              "      border-radius: 50%;\n",
              "      cursor: pointer;\n",
              "      display: none;\n",
              "      fill: #1967D2;\n",
              "      height: 32px;\n",
              "      padding: 0 0 0 0;\n",
              "      width: 32px;\n",
              "    }\n",
              "\n",
              "    .colab-df-convert:hover {\n",
              "      background-color: #E2EBFA;\n",
              "      box-shadow: 0px 1px 2px rgba(60, 64, 67, 0.3), 0px 1px 3px 1px rgba(60, 64, 67, 0.15);\n",
              "      fill: #174EA6;\n",
              "    }\n",
              "\n",
              "    [theme=dark] .colab-df-convert {\n",
              "      background-color: #3B4455;\n",
              "      fill: #D2E3FC;\n",
              "    }\n",
              "\n",
              "    [theme=dark] .colab-df-convert:hover {\n",
              "      background-color: #434B5C;\n",
              "      box-shadow: 0px 1px 3px 1px rgba(0, 0, 0, 0.15);\n",
              "      filter: drop-shadow(0px 1px 2px rgba(0, 0, 0, 0.3));\n",
              "      fill: #FFFFFF;\n",
              "    }\n",
              "  </style>\n",
              "\n",
              "      <script>\n",
              "        const buttonEl =\n",
              "          document.querySelector('#df-6b557952-cc8c-4a10-b6cc-ae5c90d5f0e7 button.colab-df-convert');\n",
              "        buttonEl.style.display =\n",
              "          google.colab.kernel.accessAllowed ? 'block' : 'none';\n",
              "\n",
              "        async function convertToInteractive(key) {\n",
              "          const element = document.querySelector('#df-6b557952-cc8c-4a10-b6cc-ae5c90d5f0e7');\n",
              "          const dataTable =\n",
              "            await google.colab.kernel.invokeFunction('convertToInteractive',\n",
              "                                                     [key], {});\n",
              "          if (!dataTable) return;\n",
              "\n",
              "          const docLinkHtml = 'Like what you see? Visit the ' +\n",
              "            '<a target=\"_blank\" href=https://colab.research.google.com/notebooks/data_table.ipynb>data table notebook</a>'\n",
              "            + ' to learn more about interactive tables.';\n",
              "          element.innerHTML = '';\n",
              "          dataTable['output_type'] = 'display_data';\n",
              "          await google.colab.output.renderOutput(dataTable, element);\n",
              "          const docLink = document.createElement('div');\n",
              "          docLink.innerHTML = docLinkHtml;\n",
              "          element.appendChild(docLink);\n",
              "        }\n",
              "      </script>\n",
              "    </div>\n",
              "  </div>\n",
              "  "
            ],
            "text/plain": [
              "    Country name  Life Ladder  ...  Positive affect  Negative affect\n",
              "229       Brazil        6.333  ...            0.716            0.308\n",
              "\n",
              "[1 rows x 10 columns]"
            ]
          },
          "metadata": {},
          "execution_count": 14
        }
      ]
    },
    {
      "cell_type": "markdown",
      "source": [
        "Olhando para as duas observações em anos diferentes, podemos observar que as propriedades que se encaixam no que foi dito anteriormente são:\n",
        "<ul>\n",
        "<li>Propriedades com mesmo nome</li>\n"
      ],
      "metadata": {
        "id": "TFPm50Okpw97"
      }
    },
    {
      "cell_type": "code",
      "source": [
        "intersec = list(set(d2017).intersection(d2021))\n",
        "print('São elas: ', end='')\n",
        "for i in range(len(intersec) - 1):\n",
        "  print(intersec[i], end=', ')\n",
        "\n",
        "print(intersec[len(intersec) - 1], end='.')"
      ],
      "metadata": {
        "colab": {
          "base_uri": "https://localhost:8080/"
        },
        "id": "Of50No86txPb",
        "outputId": "5bb17939-36f1-4f81-8fa0-c4ccd8f51e4b"
      },
      "execution_count": 15,
      "outputs": [
        {
          "output_type": "stream",
          "name": "stdout",
          "text": [
            "São elas: Social support, Freedom to make life choices, Generosity, Perceptions of corruption, Country name."
          ]
        }
      ]
    },
    {
      "cell_type": "markdown",
      "source": [
        "<ul>\n",
        "<li>Propriedades com nomes diferentes</li>\n",
        "</ul>"
      ],
      "metadata": {
        "id": "0yTDXqmDtfBc"
      }
    },
    {
      "cell_type": "code",
      "source": [
        "dif1_0 = list(set(d2021) - set(d2017))\n",
        "dif1_0.sort()\n",
        "dif0_1 = list(set(d2017) - set(d2021))\n",
        "dif0_1.sort()\n",
        "dif = dif1_0 + dif0_1\n",
        "print('São elas: \\n\\tAs que estão na primeira tabela (todos os anos) e não na segunda: ', end='\\n')\n",
        "\n",
        "for i in range(len(dif0_1) - 1):\n",
        "  print('\\t\\t',dif0_1[i], end=',\\n')\n",
        "\n",
        "print('\\t\\t', dif0_1[len(dif0_1) - 1],'.\\n')\n",
        "\n",
        "print('\\t As que estão na segunda tabela (2021) e não estão na primeira: ', end='\\n')\n",
        "\n",
        "for i in range(len(dif1_0) - 1):\n",
        "  print('\\t\\t',dif1_0[i], end=',\\n')\n",
        "\n",
        "print('\\t\\t', dif1_0[len(dif0_1) - 1],'.\\n')"
      ],
      "metadata": {
        "colab": {
          "base_uri": "https://localhost:8080/"
        },
        "id": "AmdaRdG_uhwc",
        "outputId": "0e7df7bb-33d2-4237-f931-6af2391d3bf4"
      },
      "execution_count": 16,
      "outputs": [
        {
          "output_type": "stream",
          "name": "stdout",
          "text": [
            "São elas: \n",
            "\tAs que estão na primeira tabela (todos os anos) e não na segunda: \n",
            "\t\t Healthy life expectancy at birth,\n",
            "\t\t Life Ladder,\n",
            "\t\t Log GDP per capita,\n",
            "\t\t Negative affect,\n",
            "\t\t Positive affect .\n",
            "\n",
            "\t As que estão na segunda tabela (2021) e não estão na primeira: \n",
            "\t\t Dystopia + residual,\n",
            "\t\t Explained by: Freedom to make life choices,\n",
            "\t\t Explained by: Generosity,\n",
            "\t\t Explained by: Healthy life expectancy,\n",
            "\t\t Explained by: Log GDP per capita,\n",
            "\t\t Explained by: Perceptions of corruption,\n",
            "\t\t Explained by: Social support,\n",
            "\t\t Healthy life expectancy,\n",
            "\t\t Ladder score,\n",
            "\t\t Ladder score in Dystopia,\n",
            "\t\t Logged GDP per capita,\n",
            "\t\t Regional indicator,\n",
            "\t\t Standard error of ladder score,\n",
            "\t\t lowerwhisker,\n",
            "\t\t Explained by: Log GDP per capita .\n",
            "\n"
          ]
        }
      ]
    },
    {
      "cell_type": "markdown",
      "source": [
        "Podemos perceber que as propriedas a seguir são semelhantes, principalmente quando olhamos a distribuição dos dados."
      ],
      "metadata": {
        "id": "Eow70ThHbu0Z"
      }
    },
    {
      "cell_type": "markdown",
      "source": [
        "###Verificando similaridade na distribuição de propriedades com nomes parecidos"
      ],
      "metadata": {
        "id": "S3dwEUF_g3tW"
      }
    },
    {
      "cell_type": "code",
      "source": [
        "color1 = 'mediumturquoise'\n",
        "color2 = 'mediumpurple'"
      ],
      "metadata": {
        "id": "Q7CD99DTiwda"
      },
      "execution_count": 17,
      "outputs": []
    },
    {
      "cell_type": "markdown",
      "source": [
        "####(1) Log GDP per capita & (2) Logged GDP per capita"
      ],
      "metadata": {
        "id": "zU1HLkUvb7Z9"
      }
    },
    {
      "cell_type": "code",
      "source": [
        "plt.figure(figsize=(14,3))\n",
        "\n",
        "plt.subplot(131)\n",
        "plt.hist(d2017['Log GDP per capita'], edgecolor='k', bins=30, color=color1)\n",
        "plt.xlabel('Log GDP per Capita')\n",
        "plt.ylabel('Frequency')\n",
        "plt.title('2018 table')\n",
        "\n",
        "plt.subplot(132)\n",
        "plt.xlabel('Log GDP per Capita')\n",
        "plt.ylabel('Frequency')\n",
        "plt.hist(d2021['Logged GDP per capita'], edgecolor='k', bins=30, color=color2)\n",
        "plt.title('2021 Table')\n",
        "\n",
        "plt.subplot(133)\n",
        "plt.hist(d2017['Log GDP per capita'], edgecolor='k', bins=30, alpha=0.4, color=color1)\n",
        "plt.hist(d2021['Logged GDP per capita'], edgecolor='k', bins=30, alpha=0.4, color=color2)\n",
        "plt.title('Overlap Histogram')"
      ],
      "metadata": {
        "id": "IN7zUkarv_oh",
        "outputId": "c6442289-97a7-474e-ad1a-cbf2ad1e8f86",
        "colab": {
          "base_uri": "https://localhost:8080/",
          "height": 260
        }
      },
      "execution_count": 18,
      "outputs": [
        {
          "output_type": "execute_result",
          "data": {
            "text/plain": [
              "Text(0.5, 1.0, 'Overlap Histogram')"
            ]
          },
          "metadata": {},
          "execution_count": 18
        },
        {
          "output_type": "display_data",
          "data": {
            "image/png": "[encoded data removed]",
            "text/plain": [
              "<Figure size 1008x216 with 3 Axes>"
            ]
          },
          "metadata": {
            "needs_background": "light"
          }
        }
      ]
    },
    {
      "cell_type": "code",
      "source": [
        "print('Estimadores de 2021\\n',d2021['Logged GDP per capita'].describe(), sep='')\n",
        "print('\\nEstimadores de 2017\\n',d2017['Log GDP per capita'].describe(), sep='')"
      ],
      "metadata": {
        "colab": {
          "base_uri": "https://localhost:8080/"
        },
        "id": "ymBTizWljg2e",
        "outputId": "027dafe4-c547-4b2d-92cf-614f5bbf6583"
      },
      "execution_count": 19,
      "outputs": [
        {
          "output_type": "stream",
          "name": "stdout",
          "text": [
            "Estimadores de 2021\n",
            "count    149.000000\n",
            "mean       9.432208\n",
            "std        1.158601\n",
            "min        6.635000\n",
            "25%        8.541000\n",
            "50%        9.569000\n",
            "75%       10.421000\n",
            "max       11.647000\n",
            "Name: Logged GDP per capita, dtype: float64\n",
            "\n",
            "Estimadores de 2017\n",
            "count    146.000000\n",
            "mean       9.397034\n",
            "std        1.180853\n",
            "min        6.817000\n",
            "25%        8.493000\n",
            "50%        9.504000\n",
            "75%       10.390000\n",
            "max       11.634000\n",
            "Name: Log GDP per capita, dtype: float64\n"
          ]
        }
      ]
    },
    {
      "cell_type": "markdown",
      "source": [
        "####(1)Life Ladder & (2)Ladder Score"
      ],
      "metadata": {
        "id": "Vj-KsTOvhXc_"
      }
    },
    {
      "cell_type": "code",
      "source": [
        "plt.figure(figsize=(14,3))\n",
        "\n",
        "plt.subplot(131)\n",
        "plt.hist(d2017['Life Ladder'], edgecolor='k', bins=20, color=color1)\n",
        "plt.xlabel('Life Ladder')\n",
        "plt.ylabel('Frequency')\n",
        "plt.title('2018 table')\n",
        "\n",
        "plt.subplot(132)\n",
        "plt.hist(d2021['Ladder score'], edgecolor='k', bins=20, color=color2)\n",
        "plt.xlabel('Ladder score')\n",
        "plt.ylabel('Frequency')\n",
        "plt.title('2021 Table')\n",
        "\n",
        "plt.subplot(133)\n",
        "plt.hist(d2017['Life Ladder'], edgecolor='k', bins=20, alpha=0.6, color=color1)\n",
        "plt.hist(d2021['Ladder score'], edgecolor='k', bins=20, alpha=0.6, color=color2)\n",
        "plt.title('Overlap Histogram')"
      ],
      "metadata": {
        "colab": {
          "base_uri": "https://localhost:8080/",
          "height": 260
        },
        "id": "hydBAkJ2e4eO",
        "outputId": "2f3e5915-8fd3-453d-b131-9a7ce66090d2"
      },
      "execution_count": 20,
      "outputs": [
        {
          "output_type": "execute_result",
          "data": {
            "text/plain": [
              "Text(0.5, 1.0, 'Overlap Histogram')"
            ]
          },
          "metadata": {},
          "execution_count": 20
        },
        {
          "output_type": "display_data",
          "data": {
            "image/png": "[encoded data removed]",
            "text/plain": [
              "<Figure size 1008x216 with 3 Axes>"
            ]
          },
          "metadata": {
            "needs_background": "light"
          }
        }
      ]
    },
    {
      "cell_type": "code",
      "source": [
        "print('Estimadores de 2021\\n',d2021['Ladder score'].describe(), sep='')\n",
        "print('\\nEstimadores de 2017\\n', d2017['Life Ladder'].describe(), sep='')"
      ],
      "metadata": {
        "colab": {
          "base_uri": "https://localhost:8080/"
        },
        "id": "c6rPNh8wh6Ry",
        "outputId": "2d50386e-0af3-431a-88ff-5a6fedecaaf8"
      },
      "execution_count": 21,
      "outputs": [
        {
          "output_type": "stream",
          "name": "stdout",
          "text": [
            "Estimadores de 2021\n",
            "count    149.000000\n",
            "mean       5.532839\n",
            "std        1.073924\n",
            "min        2.523000\n",
            "25%        4.852000\n",
            "50%        5.534000\n",
            "75%        6.255000\n",
            "max        7.842000\n",
            "Name: Ladder score, dtype: float64\n",
            "\n",
            "Estimadores de 2017\n",
            "count    147.000000\n",
            "mean       5.460408\n",
            "std        1.140804\n",
            "min        2.662000\n",
            "25%        4.619500\n",
            "50%        5.553000\n",
            "75%        6.251500\n",
            "max        7.788000\n",
            "Name: Life Ladder, dtype: float64\n"
          ]
        }
      ]
    },
    {
      "cell_type": "markdown",
      "source": [
        "####(1)Healthy life expectancy at birth & (2)Healthy life expectancy"
      ],
      "metadata": {
        "id": "-aCoHhd2mAJ3"
      }
    },
    {
      "cell_type": "code",
      "source": [
        "plt.figure(figsize=(14,3))\n",
        "\n",
        "plt.subplot(131)\n",
        "plt.hist(d2017['Healthy life expectancy at birth'], edgecolor='k', bins=20, color=color1)\n",
        "plt.xlabel('Healthy life expectancy at birth')\n",
        "plt.ylabel('Frequency')\n",
        "plt.title('2018 table')\n",
        "\n",
        "plt.subplot(132)\n",
        "plt.hist(d2021['Healthy life expectancy'], edgecolor='k', bins=20, color=color2)\n",
        "plt.xlabel('Healthy life expectancy')\n",
        "plt.ylabel('Frequency')\n",
        "plt.title('2021 Table')\n",
        "\n",
        "plt.subplot(133)\n",
        "plt.hist(d2017['Healthy life expectancy at birth'], edgecolor='k', bins=20, alpha=0.6, color=color1)\n",
        "plt.hist(d2021['Healthy life expectancy'], edgecolor='k', bins=20, alpha=0.6, color=color2)\n",
        "plt.title('Overlap Histogram')"
      ],
      "metadata": {
        "colab": {
          "base_uri": "https://localhost:8080/",
          "height": 260
        },
        "outputId": "07a4182a-854e-47f0-f4d9-5a557bffcc82",
        "id": "PSaqABl3mAJ_"
      },
      "execution_count": 22,
      "outputs": [
        {
          "output_type": "execute_result",
          "data": {
            "text/plain": [
              "Text(0.5, 1.0, 'Overlap Histogram')"
            ]
          },
          "metadata": {},
          "execution_count": 22
        },
        {
          "output_type": "display_data",
          "data": {
            "image/png": "[encoded data removed]",
            "text/plain": [
              "<Figure size 1008x216 with 3 Axes>"
            ]
          },
          "metadata": {
            "needs_background": "light"
          }
        }
      ]
    },
    {
      "cell_type": "code",
      "source": [
        "print('Estimadores de 2021\\n',d2021['Healthy life expectancy'].describe(), sep='')\n",
        "print('\\nEstimadores de 2017\\n', d2017['Healthy life expectancy at birth'].describe(), sep='')"
      ],
      "metadata": {
        "colab": {
          "base_uri": "https://localhost:8080/"
        },
        "outputId": "99ddf86b-6eff-41f9-8a3d-693f8b101820",
        "id": "yHKLcu_6mAKG"
      },
      "execution_count": 23,
      "outputs": [
        {
          "output_type": "stream",
          "name": "stdout",
          "text": [
            "Estimadores de 2021\n",
            "count    149.000000\n",
            "mean      64.992799\n",
            "std        6.762043\n",
            "min       48.478000\n",
            "25%       59.802000\n",
            "50%       66.603000\n",
            "75%       69.600000\n",
            "max       76.953000\n",
            "Name: Healthy life expectancy, dtype: float64\n",
            "\n",
            "Estimadores de 2017\n",
            "count    143.000000\n",
            "mean      64.090231\n",
            "std        7.086236\n",
            "min       45.200000\n",
            "25%       58.700000\n",
            "50%       65.800000\n",
            "75%       68.750000\n",
            "max       76.500000\n",
            "Name: Healthy life expectancy at birth, dtype: float64\n"
          ]
        }
      ]
    },
    {
      "cell_type": "markdown",
      "source": [
        "####Reorganizando e renomeando as tabelas"
      ],
      "metadata": {
        "id": "SFJRZe3l0_zz"
      }
    },
    {
      "cell_type": "markdown",
      "source": [
        "<p>Os atributos análisados possuem nomes semelhantes e, além disso, distribuições e estimadores semelhantes. Para fim de análise, vamos reformular a tabela de 2021 considerando que esses atributos são os mesmos daqueles comparados em outros dataframes.</p>\n",
        "<p> Além disso, vamos retirar aqueles atributos que ambos tipos de dataframe não tem em comum.</p>"
      ],
      "metadata": {
        "id": "VN7WX_Up0d7O"
      }
    },
    {
      "cell_type": "code",
      "source": [
        "df21c = df21[['Country name','Ladder score','Logged GDP per capita','Social support','Healthy life expectancy','Freedom to make life choices','Generosity','Perceptions of corruption']]"
      ],
      "metadata": {
        "id": "oOMIFCJ51dak"
      },
      "execution_count": 24,
      "outputs": []
    },
    {
      "cell_type": "code",
      "source": [
        "dftc = dft[['year','Country name','Life Ladder', 'Log GDP per capita', 'Social support', 'Healthy life expectancy at birth', 'Freedom to make life choices', 'Generosity','Perceptions of corruption']]"
      ],
      "metadata": {
        "id": "wDT7pA6S2qWm"
      },
      "execution_count": 25,
      "outputs": []
    },
    {
      "cell_type": "markdown",
      "source": [
        "Para fins de coerência, vamos renomear também os atributos dos dataframes para que fiquem iguais"
      ],
      "metadata": {
        "id": "Xr7nvnnX3Hmk"
      }
    },
    {
      "cell_type": "code",
      "source": [
        "df21c = df21c.rename(columns={'Country name':'Nome do País','Ladder score':'Nota para Escada de Cantril','Logged GDP per capita':'Log do PIB per capita',\n",
        "                           'Social support':'Suporte Social','Healthy life expectancy':'Expectativa de Vida Saúdavel','Freedom to make life choices':'Liberdade para Escolhas da Vida',\n",
        "                           'Generosity':'Generosidade','Perceptions of corruption':'Percepção de Corrupção'})"
      ],
      "metadata": {
        "id": "e6rx4iBB3U-b"
      },
      "execution_count": 26,
      "outputs": []
    },
    {
      "cell_type": "code",
      "source": [
        "dftc = dftc.rename(columns={'Country name':'Nome do País','Life Ladder':'Nota para Escada de Cantril', 'Log GDP per capita':'Log do PIB per capita',\n",
        "                            'Social support':'Suporte Social', 'Healthy life expectancy at birth':'Expectativa de Vida Saúdavel',\n",
        "                            'Freedom to make life choices':'Liberdade para Escolhas da Vida','Generosity':'Generosidade','Perceptions of corruption':'Percepção de Corrupção'})"
      ],
      "metadata": {
        "id": "D4Ndq2Ir5VFn"
      },
      "execution_count": 27,
      "outputs": []
    },
    {
      "cell_type": "code",
      "source": [
        "df21c.head(2)"
      ],
      "metadata": {
        "colab": {
          "base_uri": "https://localhost:8080/",
          "height": 112
        },
        "id": "EcQaCaI_5ZcD",
        "outputId": "f635c9fa-1108-4819-afb2-b334215bcacd"
      },
      "execution_count": 28,
      "outputs": [
        {
          "output_type": "execute_result",
          "data": {
            "text/html": [
              "\n",
              "  <div id=\"df-90e157cb-69e1-4222-8246-c36756134215\">\n",
              "    <div class=\"colab-df-container\">\n",
              "      <div>\n",
              "<style scoped>\n",
              "    .dataframe tbody tr th:only-of-type {\n",
              "        vertical-align: middle;\n",
              "    }\n",
              "\n",
              "    .dataframe tbody tr th {\n",
              "        vertical-align: top;\n",
              "    }\n",
              "\n",
              "    .dataframe thead th {\n",
              "        text-align: right;\n",
              "    }\n",
              "</style>\n",
              "<table border=\"1\" class=\"dataframe\">\n",
              "  <thead>\n",
              "    <tr style=\"text-align: right;\">\n",
              "      <th></th>\n",
              "      <th>Nome do País</th>\n",
              "      <th>Nota para Escada de Cantril</th>\n",
              "      <th>Log do PIB per capita</th>\n",
              "      <th>Suporte Social</th>\n",
              "      <th>Expectativa de Vida Saúdavel</th>\n",
              "      <th>Liberdade para Escolhas da Vida</th>\n",
              "      <th>Generosidade</th>\n",
              "      <th>Percepção de Corrupção</th>\n",
              "    </tr>\n",
              "  </thead>\n",
              "  <tbody>\n",
              "    <tr>\n",
              "      <th>0</th>\n",
              "      <td>Finland</td>\n",
              "      <td>7.842</td>\n",
              "      <td>10.775</td>\n",
              "      <td>0.954</td>\n",
              "      <td>72.0</td>\n",
              "      <td>0.949</td>\n",
              "      <td>-0.098</td>\n",
              "      <td>0.186</td>\n",
              "    </tr>\n",
              "    <tr>\n",
              "      <th>1</th>\n",
              "      <td>Denmark</td>\n",
              "      <td>7.620</td>\n",
              "      <td>10.933</td>\n",
              "      <td>0.954</td>\n",
              "      <td>72.7</td>\n",
              "      <td>0.946</td>\n",
              "      <td>0.030</td>\n",
              "      <td>0.179</td>\n",
              "    </tr>\n",
              "  </tbody>\n",
              "</table>\n",
              "</div>\n",
              "      <button class=\"colab-df-convert\" onclick=\"convertToInteractive('df-90e157cb-69e1-4222-8246-c36756134215')\"\n",
              "              title=\"Convert this dataframe to an interactive table.\"\n",
              "              style=\"display:none;\">\n",
              "        \n",
              "  <svg xmlns=\"http://www.w3.org/2000/svg\" height=\"24px\"viewBox=\"0 0 24 24\"\n",
              "       width=\"24px\">\n",
              "    <path d=\"M0 0h24v24H0V0z\" fill=\"none\"/>\n",
              "    <path d=\"M18.56 5.44l.94 2.06.94-2.06 2.06-.94-2.06-.94-.94-2.06-.94 2.06-2.06.94zm-11 1L8.5 8.5l.94-2.06 2.06-.94-2.06-.94L8.5 2.5l-.94 2.06-2.06.94zm10 10l.94 2.06.94-2.06 2.06-.94-2.06-.94-.94-2.06-.94 2.06-2.06.94z\"/><path d=\"M17.41 7.96l-1.37-1.37c-.4-.4-.92-.59-1.43-.59-.52 0-1.04.2-1.43.59L10.3 9.45l-7.72 7.72c-.78.78-.78 2.05 0 2.83L4 21.41c.39.39.9.59 1.41.59.51 0 1.02-.2 1.41-.59l7.78-7.78 2.81-2.81c.8-.78.8-2.07 0-2.86zM5.41 20L4 18.59l7.72-7.72 1.47 1.35L5.41 20z\"/>\n",
              "  </svg>\n",
              "      </button>\n",
              "      \n",
              "  <style>\n",
              "    .colab-df-container {\n",
              "      display:flex;\n",
              "      flex-wrap:wrap;\n",
              "      gap: 12px;\n",
              "    }\n",
              "\n",
              "    .colab-df-convert {\n",
              "      background-color: #E8F0FE;\n",
              "      border: none;\n",
              "      border-radius: 50%;\n",
              "      cursor: pointer;\n",
              "      display: none;\n",
              "      fill: #1967D2;\n",
              "      height: 32px;\n",
              "      padding: 0 0 0 0;\n",
              "      width: 32px;\n",
              "    }\n",
              "\n",
              "    .colab-df-convert:hover {\n",
              "      background-color: #E2EBFA;\n",
              "      box-shadow: 0px 1px 2px rgba(60, 64, 67, 0.3), 0px 1px 3px 1px rgba(60, 64, 67, 0.15);\n",
              "      fill: #174EA6;\n",
              "    }\n",
              "\n",
              "    [theme=dark] .colab-df-convert {\n",
              "      background-color: #3B4455;\n",
              "      fill: #D2E3FC;\n",
              "    }\n",
              "\n",
              "    [theme=dark] .colab-df-convert:hover {\n",
              "      background-color: #434B5C;\n",
              "      box-shadow: 0px 1px 3px 1px rgba(0, 0, 0, 0.15);\n",
              "      filter: drop-shadow(0px 1px 2px rgba(0, 0, 0, 0.3));\n",
              "      fill: #FFFFFF;\n",
              "    }\n",
              "  </style>\n",
              "\n",
              "      <script>\n",
              "        const buttonEl =\n",
              "          document.querySelector('#df-90e157cb-69e1-4222-8246-c36756134215 button.colab-df-convert');\n",
              "        buttonEl.style.display =\n",
              "          google.colab.kernel.accessAllowed ? 'block' : 'none';\n",
              "\n",
              "        async function convertToInteractive(key) {\n",
              "          const element = document.querySelector('#df-90e157cb-69e1-4222-8246-c36756134215');\n",
              "          const dataTable =\n",
              "            await google.colab.kernel.invokeFunction('convertToInteractive',\n",
              "                                                     [key], {});\n",
              "          if (!dataTable) return;\n",
              "\n",
              "          const docLinkHtml = 'Like what you see? Visit the ' +\n",
              "            '<a target=\"_blank\" href=https://colab.research.google.com/notebooks/data_table.ipynb>data table notebook</a>'\n",
              "            + ' to learn more about interactive tables.';\n",
              "          element.innerHTML = '';\n",
              "          dataTable['output_type'] = 'display_data';\n",
              "          await google.colab.output.renderOutput(dataTable, element);\n",
              "          const docLink = document.createElement('div');\n",
              "          docLink.innerHTML = docLinkHtml;\n",
              "          element.appendChild(docLink);\n",
              "        }\n",
              "      </script>\n",
              "    </div>\n",
              "  </div>\n",
              "  "
            ],
            "text/plain": [
              "  Nome do País  ...  Percepção de Corrupção\n",
              "0      Finland  ...                   0.186\n",
              "1      Denmark  ...                   0.179\n",
              "\n",
              "[2 rows x 8 columns]"
            ]
          },
          "metadata": {},
          "execution_count": 28
        }
      ]
    },
    {
      "cell_type": "code",
      "source": [
        "dftc.head(2)"
      ],
      "metadata": {
        "colab": {
          "base_uri": "https://localhost:8080/",
          "height": 156
        },
        "id": "8PsRmALS518R",
        "outputId": "f560f725-2a65-43ac-8ef7-20857474c3cd"
      },
      "execution_count": 29,
      "outputs": [
        {
          "output_type": "execute_result",
          "data": {
            "text/html": [
              "\n",
              "  <div id=\"df-bf5d4ad0-e968-4a70-aeb2-6cea81ddc96d\">\n",
              "    <div class=\"colab-df-container\">\n",
              "      <div>\n",
              "<style scoped>\n",
              "    .dataframe tbody tr th:only-of-type {\n",
              "        vertical-align: middle;\n",
              "    }\n",
              "\n",
              "    .dataframe tbody tr th {\n",
              "        vertical-align: top;\n",
              "    }\n",
              "\n",
              "    .dataframe thead th {\n",
              "        text-align: right;\n",
              "    }\n",
              "</style>\n",
              "<table border=\"1\" class=\"dataframe\">\n",
              "  <thead>\n",
              "    <tr style=\"text-align: right;\">\n",
              "      <th></th>\n",
              "      <th>year</th>\n",
              "      <th>Nome do País</th>\n",
              "      <th>Nota para Escada de Cantril</th>\n",
              "      <th>Log do PIB per capita</th>\n",
              "      <th>Suporte Social</th>\n",
              "      <th>Expectativa de Vida Saúdavel</th>\n",
              "      <th>Liberdade para Escolhas da Vida</th>\n",
              "      <th>Generosidade</th>\n",
              "      <th>Percepção de Corrupção</th>\n",
              "    </tr>\n",
              "  </thead>\n",
              "  <tbody>\n",
              "    <tr>\n",
              "      <th>0</th>\n",
              "      <td>2008</td>\n",
              "      <td>Afghanistan</td>\n",
              "      <td>3.724</td>\n",
              "      <td>7.37</td>\n",
              "      <td>0.451</td>\n",
              "      <td>50.8</td>\n",
              "      <td>0.718</td>\n",
              "      <td>0.168</td>\n",
              "      <td>0.882</td>\n",
              "    </tr>\n",
              "    <tr>\n",
              "      <th>1</th>\n",
              "      <td>2009</td>\n",
              "      <td>Afghanistan</td>\n",
              "      <td>4.402</td>\n",
              "      <td>7.54</td>\n",
              "      <td>0.552</td>\n",
              "      <td>51.2</td>\n",
              "      <td>0.679</td>\n",
              "      <td>0.190</td>\n",
              "      <td>0.850</td>\n",
              "    </tr>\n",
              "  </tbody>\n",
              "</table>\n",
              "</div>\n",
              "      <button class=\"colab-df-convert\" onclick=\"convertToInteractive('df-bf5d4ad0-e968-4a70-aeb2-6cea81ddc96d')\"\n",
              "              title=\"Convert this dataframe to an interactive table.\"\n",
              "              style=\"display:none;\">\n",
              "        \n",
              "  <svg xmlns=\"http://www.w3.org/2000/svg\" height=\"24px\"viewBox=\"0 0 24 24\"\n",
              "       width=\"24px\">\n",
              "    <path d=\"M0 0h24v24H0V0z\" fill=\"none\"/>\n",
              "    <path d=\"M18.56 5.44l.94 2.06.94-2.06 2.06-.94-2.06-.94-.94-2.06-.94 2.06-2.06.94zm-11 1L8.5 8.5l.94-2.06 2.06-.94-2.06-.94L8.5 2.5l-.94 2.06-2.06.94zm10 10l.94 2.06.94-2.06 2.06-.94-2.06-.94-.94-2.06-.94 2.06-2.06.94z\"/><path d=\"M17.41 7.96l-1.37-1.37c-.4-.4-.92-.59-1.43-.59-.52 0-1.04.2-1.43.59L10.3 9.45l-7.72 7.72c-.78.78-.78 2.05 0 2.83L4 21.41c.39.39.9.59 1.41.59.51 0 1.02-.2 1.41-.59l7.78-7.78 2.81-2.81c.8-.78.8-2.07 0-2.86zM5.41 20L4 18.59l7.72-7.72 1.47 1.35L5.41 20z\"/>\n",
              "  </svg>\n",
              "      </button>\n",
              "      \n",
              "  <style>\n",
              "    .colab-df-container {\n",
              "      display:flex;\n",
              "      flex-wrap:wrap;\n",
              "      gap: 12px;\n",
              "    }\n",
              "\n",
              "    .colab-df-convert {\n",
              "      background-color: #E8F0FE;\n",
              "      border: none;\n",
              "      border-radius: 50%;\n",
              "      cursor: pointer;\n",
              "      display: none;\n",
              "      fill: #1967D2;\n",
              "      height: 32px;\n",
              "      padding: 0 0 0 0;\n",
              "      width: 32px;\n",
              "    }\n",
              "\n",
              "    .colab-df-convert:hover {\n",
              "      background-color: #E2EBFA;\n",
              "      box-shadow: 0px 1px 2px rgba(60, 64, 67, 0.3), 0px 1px 3px 1px rgba(60, 64, 67, 0.15);\n",
              "      fill: #174EA6;\n",
              "    }\n",
              "\n",
              "    [theme=dark] .colab-df-convert {\n",
              "      background-color: #3B4455;\n",
              "      fill: #D2E3FC;\n",
              "    }\n",
              "\n",
              "    [theme=dark] .colab-df-convert:hover {\n",
              "      background-color: #434B5C;\n",
              "      box-shadow: 0px 1px 3px 1px rgba(0, 0, 0, 0.15);\n",
              "      filter: drop-shadow(0px 1px 2px rgba(0, 0, 0, 0.3));\n",
              "      fill: #FFFFFF;\n",
              "    }\n",
              "  </style>\n",
              "\n",
              "      <script>\n",
              "        const buttonEl =\n",
              "          document.querySelector('#df-bf5d4ad0-e968-4a70-aeb2-6cea81ddc96d button.colab-df-convert');\n",
              "        buttonEl.style.display =\n",
              "          google.colab.kernel.accessAllowed ? 'block' : 'none';\n",
              "\n",
              "        async function convertToInteractive(key) {\n",
              "          const element = document.querySelector('#df-bf5d4ad0-e968-4a70-aeb2-6cea81ddc96d');\n",
              "          const dataTable =\n",
              "            await google.colab.kernel.invokeFunction('convertToInteractive',\n",
              "                                                     [key], {});\n",
              "          if (!dataTable) return;\n",
              "\n",
              "          const docLinkHtml = 'Like what you see? Visit the ' +\n",
              "            '<a target=\"_blank\" href=https://colab.research.google.com/notebooks/data_table.ipynb>data table notebook</a>'\n",
              "            + ' to learn more about interactive tables.';\n",
              "          element.innerHTML = '';\n",
              "          dataTable['output_type'] = 'display_data';\n",
              "          await google.colab.output.renderOutput(dataTable, element);\n",
              "          const docLink = document.createElement('div');\n",
              "          docLink.innerHTML = docLinkHtml;\n",
              "          element.appendChild(docLink);\n",
              "        }\n",
              "      </script>\n",
              "    </div>\n",
              "  </div>\n",
              "  "
            ],
            "text/plain": [
              "   year Nome do País  ...  Generosidade  Percepção de Corrupção\n",
              "0  2008  Afghanistan  ...         0.168                   0.882\n",
              "1  2009  Afghanistan  ...         0.190                   0.850\n",
              "\n",
              "[2 rows x 9 columns]"
            ]
          },
          "metadata": {},
          "execution_count": 29
        }
      ]
    },
    {
      "cell_type": "code",
      "source": [
        "list(np.arange(2005,2022,1))"
      ],
      "metadata": {
        "colab": {
          "base_uri": "https://localhost:8080/"
        },
        "id": "Vm6GKxdHdnKx",
        "outputId": "9d077d42-a8bc-48c0-a309-f785e06161ab"
      },
      "execution_count": 30,
      "outputs": [
        {
          "output_type": "execute_result",
          "data": {
            "text/plain": [
              "[2005,\n",
              " 2006,\n",
              " 2007,\n",
              " 2008,\n",
              " 2009,\n",
              " 2010,\n",
              " 2011,\n",
              " 2012,\n",
              " 2013,\n",
              " 2014,\n",
              " 2015,\n",
              " 2016,\n",
              " 2017,\n",
              " 2018,\n",
              " 2019,\n",
              " 2020,\n",
              " 2021]"
            ]
          },
          "metadata": {},
          "execution_count": 30
        }
      ]
    },
    {
      "cell_type": "markdown",
      "source": [
        "Agora que já padronizamos os dados, vamos separá-los por ano novamente em um dicionário para melhor compreensão"
      ],
      "metadata": {
        "id": "ktQwTi6e56Kp"
      }
    },
    {
      "cell_type": "markdown",
      "source": [
        "####Criando um dicionário de dataframes com tabelas dos anos que tem mais do que a média de participantes em todos os anos"
      ],
      "metadata": {
        "id": "P0NpKCULfQMa"
      }
    },
    {
      "cell_type": "code",
      "source": [
        "dict_years = {}\n",
        "anos = list(np.arange(2005,2021,1))\n",
        "mediaParticipantes =round((dft.shape[0] + df21.shape[0])/17, 2)\n",
        "\n",
        "\n",
        "\n",
        "for year in anos:\n",
        "  yearIndex = dftc['year'] == year\n",
        "  df_aux = dftc[yearIndex]\n",
        "  dict_years[year] = df_aux\n",
        "  #excluindo o parametro ano\n",
        "  dict_years[year] = dict_years[year].drop(labels='year', axis=1)\n",
        "  #resetando os índices de cada dataframe  criado\n",
        "  dict_years[year] = dict_years[year].reset_index(drop=True)\n",
        "  #deletando anos que não possuem mais do que a média de participantes\n",
        "  if dict_years[year].shape[0] < mediaParticipantes:\n",
        "    del dict_years[year]\n",
        "\n",
        "#adicionando o ano de 2021, o qual tem mais participantes do que a média\n",
        "dict_years[2021] = df21c\n",
        "\n",
        "anos = list(dict_years.keys())"
      ],
      "metadata": {
        "id": "Q-9lFW9g53Yr"
      },
      "execution_count": 31,
      "outputs": []
    },
    {
      "cell_type": "markdown",
      "source": [
        "####Excluindo países que não aparecem em todas as tabelas"
      ],
      "metadata": {
        "id": "_m74IJRNfbfS"
      }
    },
    {
      "cell_type": "code",
      "source": [
        "#dicionário com chaves:\n",
        "#   ano:[países participantes daquele ano]\n",
        "paisesPresentes = {}\n",
        "for year in anos:\n",
        "  paisesPresentes[year] = dict_years[year]['Nome do País'].tolist()\n",
        "\n",
        "\n",
        "\n",
        "paisesComuns = set(paisesPresentes[2010]).intersection(paisesPresentes[2011],paisesPresentes[2012],paisesPresentes[2013],paisesPresentes[2014], paisesPresentes[2015],\n",
        "                   paisesPresentes[2016],paisesPresentes[2017],paisesPresentes[2018],paisesPresentes[2019],paisesPresentes[2021])\n",
        "print('A quantidade de países em comum em todos os anos filtrados são: ',len(paisesComuns))"
      ],
      "metadata": {
        "colab": {
          "base_uri": "https://localhost:8080/"
        },
        "id": "GNx9fjhZR15i",
        "outputId": "a0de3121-1e50-46ba-8d8c-10a20e6f0d36"
      },
      "execution_count": 32,
      "outputs": [
        {
          "output_type": "stream",
          "name": "stdout",
          "text": [
            "A quantidade de países em comum em todos os anos filtrados são:  102\n"
          ]
        }
      ]
    },
    {
      "cell_type": "code",
      "source": [
        "for year in anos:\n",
        "  df_aux = dict_years[year]\n",
        "  df_aux = df_aux[df_aux['Nome do País'].isin(paisesComuns)]\n",
        "  dict_years[year] = df_aux"
      ],
      "metadata": {
        "id": "EJUoeHppf2_z"
      },
      "execution_count": 33,
      "outputs": []
    },
    {
      "cell_type": "markdown",
      "source": [
        "####Lidando com países que possuem dados ausentes"
      ],
      "metadata": {
        "id": "LVu43tYhg0qY"
      }
    },
    {
      "cell_type": "markdown",
      "source": [
        "Quando olhamos para a tabela com os países selecionados, conseguimos perceber que alguns apresentam ausência de dados"
      ],
      "metadata": {
        "id": "nWa3GI4q2MeO"
      }
    },
    {
      "cell_type": "code",
      "source": [
        "dict_years[2016][dict_years[2016].isna().any(axis=1)]"
      ],
      "metadata": {
        "colab": {
          "base_uri": "https://localhost:8080/",
          "height": 376
        },
        "id": "cSlsxNW25P7q",
        "outputId": "49acd8d9-85b5-4b9b-eac5-c314f2c13320"
      },
      "execution_count": 34,
      "outputs": [
        {
          "output_type": "execute_result",
          "data": {
            "text/html": [
              "\n",
              "  <div id=\"df-af7a2f37-c5de-46b9-99f4-a7abcda8ed79\">\n",
              "    <div class=\"colab-df-container\">\n",
              "      <div>\n",
              "<style scoped>\n",
              "    .dataframe tbody tr th:only-of-type {\n",
              "        vertical-align: middle;\n",
              "    }\n",
              "\n",
              "    .dataframe tbody tr th {\n",
              "        vertical-align: top;\n",
              "    }\n",
              "\n",
              "    .dataframe thead th {\n",
              "        text-align: right;\n",
              "    }\n",
              "</style>\n",
              "<table border=\"1\" class=\"dataframe\">\n",
              "  <thead>\n",
              "    <tr style=\"text-align: right;\">\n",
              "      <th></th>\n",
              "      <th>Nome do País</th>\n",
              "      <th>Nota para Escada de Cantril</th>\n",
              "      <th>Log do PIB per capita</th>\n",
              "      <th>Suporte Social</th>\n",
              "      <th>Expectativa de Vida Saúdavel</th>\n",
              "      <th>Liberdade para Escolhas da Vida</th>\n",
              "      <th>Generosidade</th>\n",
              "      <th>Percepção de Corrupção</th>\n",
              "    </tr>\n",
              "  </thead>\n",
              "  <tbody>\n",
              "    <tr>\n",
              "      <th>25</th>\n",
              "      <td>China</td>\n",
              "      <td>5.325</td>\n",
              "      <td>9.510</td>\n",
              "      <td>0.742</td>\n",
              "      <td>68.7</td>\n",
              "      <td>NaN</td>\n",
              "      <td>-0.228</td>\n",
              "      <td>NaN</td>\n",
              "    </tr>\n",
              "    <tr>\n",
              "      <th>63</th>\n",
              "      <td>Jordan</td>\n",
              "      <td>5.271</td>\n",
              "      <td>9.197</td>\n",
              "      <td>0.820</td>\n",
              "      <td>66.4</td>\n",
              "      <td>0.771</td>\n",
              "      <td>-0.038</td>\n",
              "      <td>NaN</td>\n",
              "    </tr>\n",
              "    <tr>\n",
              "      <th>66</th>\n",
              "      <td>Kosovo</td>\n",
              "      <td>5.759</td>\n",
              "      <td>9.228</td>\n",
              "      <td>0.824</td>\n",
              "      <td>NaN</td>\n",
              "      <td>0.827</td>\n",
              "      <td>0.125</td>\n",
              "      <td>0.941</td>\n",
              "    </tr>\n",
              "    <tr>\n",
              "      <th>98</th>\n",
              "      <td>Palestinian Territories</td>\n",
              "      <td>4.907</td>\n",
              "      <td>8.498</td>\n",
              "      <td>0.818</td>\n",
              "      <td>NaN</td>\n",
              "      <td>0.608</td>\n",
              "      <td>-0.129</td>\n",
              "      <td>0.812</td>\n",
              "    </tr>\n",
              "    <tr>\n",
              "      <th>108</th>\n",
              "      <td>Saudi Arabia</td>\n",
              "      <td>6.474</td>\n",
              "      <td>10.792</td>\n",
              "      <td>0.890</td>\n",
              "      <td>65.7</td>\n",
              "      <td>0.774</td>\n",
              "      <td>-0.132</td>\n",
              "      <td>NaN</td>\n",
              "    </tr>\n",
              "    <tr>\n",
              "      <th>122</th>\n",
              "      <td>Taiwan Province of China</td>\n",
              "      <td>6.513</td>\n",
              "      <td>10.855</td>\n",
              "      <td>0.895</td>\n",
              "      <td>NaN</td>\n",
              "      <td>0.719</td>\n",
              "      <td>-0.049</td>\n",
              "      <td>0.811</td>\n",
              "    </tr>\n",
              "    <tr>\n",
              "      <th>132</th>\n",
              "      <td>United Arab Emirates</td>\n",
              "      <td>6.831</td>\n",
              "      <td>11.105</td>\n",
              "      <td>0.849</td>\n",
              "      <td>66.7</td>\n",
              "      <td>0.949</td>\n",
              "      <td>0.131</td>\n",
              "      <td>NaN</td>\n",
              "    </tr>\n",
              "    <tr>\n",
              "      <th>136</th>\n",
              "      <td>Uzbekistan</td>\n",
              "      <td>5.893</td>\n",
              "      <td>8.756</td>\n",
              "      <td>0.945</td>\n",
              "      <td>64.5</td>\n",
              "      <td>0.984</td>\n",
              "      <td>0.208</td>\n",
              "      <td>NaN</td>\n",
              "    </tr>\n",
              "    <tr>\n",
              "      <th>139</th>\n",
              "      <td>Yemen</td>\n",
              "      <td>3.826</td>\n",
              "      <td>7.715</td>\n",
              "      <td>0.775</td>\n",
              "      <td>55.1</td>\n",
              "      <td>0.533</td>\n",
              "      <td>-0.151</td>\n",
              "      <td>NaN</td>\n",
              "    </tr>\n",
              "  </tbody>\n",
              "</table>\n",
              "</div>\n",
              "      <button class=\"colab-df-convert\" onclick=\"convertToInteractive('df-af7a2f37-c5de-46b9-99f4-a7abcda8ed79')\"\n",
              "              title=\"Convert this dataframe to an interactive table.\"\n",
              "              style=\"display:none;\">\n",
              "        \n",
              "  <svg xmlns=\"http://www.w3.org/2000/svg\" height=\"24px\"viewBox=\"0 0 24 24\"\n",
              "       width=\"24px\">\n",
              "    <path d=\"M0 0h24v24H0V0z\" fill=\"none\"/>\n",
              "    <path d=\"M18.56 5.44l.94 2.06.94-2.06 2.06-.94-2.06-.94-.94-2.06-.94 2.06-2.06.94zm-11 1L8.5 8.5l.94-2.06 2.06-.94-2.06-.94L8.5 2.5l-.94 2.06-2.06.94zm10 10l.94 2.06.94-2.06 2.06-.94-2.06-.94-.94-2.06-.94 2.06-2.06.94z\"/><path d=\"M17.41 7.96l-1.37-1.37c-.4-.4-.92-.59-1.43-.59-.52 0-1.04.2-1.43.59L10.3 9.45l-7.72 7.72c-.78.78-.78 2.05 0 2.83L4 21.41c.39.39.9.59 1.41.59.51 0 1.02-.2 1.41-.59l7.78-7.78 2.81-2.81c.8-.78.8-2.07 0-2.86zM5.41 20L4 18.59l7.72-7.72 1.47 1.35L5.41 20z\"/>\n",
              "  </svg>\n",
              "      </button>\n",
              "      \n",
              "  <style>\n",
              "    .colab-df-container {\n",
              "      display:flex;\n",
              "      flex-wrap:wrap;\n",
              "      gap: 12px;\n",
              "    }\n",
              "\n",
              "    .colab-df-convert {\n",
              "      background-color: #E8F0FE;\n",
              "      border: none;\n",
              "      border-radius: 50%;\n",
              "      cursor: pointer;\n",
              "      display: none;\n",
              "      fill: #1967D2;\n",
              "      height: 32px;\n",
              "      padding: 0 0 0 0;\n",
              "      width: 32px;\n",
              "    }\n",
              "\n",
              "    .colab-df-convert:hover {\n",
              "      background-color: #E2EBFA;\n",
              "      box-shadow: 0px 1px 2px rgba(60, 64, 67, 0.3), 0px 1px 3px 1px rgba(60, 64, 67, 0.15);\n",
              "      fill: #174EA6;\n",
              "    }\n",
              "\n",
              "    [theme=dark] .colab-df-convert {\n",
              "      background-color: #3B4455;\n",
              "      fill: #D2E3FC;\n",
              "    }\n",
              "\n",
              "    [theme=dark] .colab-df-convert:hover {\n",
              "      background-color: #434B5C;\n",
              "      box-shadow: 0px 1px 3px 1px rgba(0, 0, 0, 0.15);\n",
              "      filter: drop-shadow(0px 1px 2px rgba(0, 0, 0, 0.3));\n",
              "      fill: #FFFFFF;\n",
              "    }\n",
              "  </style>\n",
              "\n",
              "      <script>\n",
              "        const buttonEl =\n",
              "          document.querySelector('#df-af7a2f37-c5de-46b9-99f4-a7abcda8ed79 button.colab-df-convert');\n",
              "        buttonEl.style.display =\n",
              "          google.colab.kernel.accessAllowed ? 'block' : 'none';\n",
              "\n",
              "        async function convertToInteractive(key) {\n",
              "          const element = document.querySelector('#df-af7a2f37-c5de-46b9-99f4-a7abcda8ed79');\n",
              "          const dataTable =\n",
              "            await google.colab.kernel.invokeFunction('convertToInteractive',\n",
              "                                                     [key], {});\n",
              "          if (!dataTable) return;\n",
              "\n",
              "          const docLinkHtml = 'Like what you see? Visit the ' +\n",
              "            '<a target=\"_blank\" href=https://colab.research.google.com/notebooks/data_table.ipynb>data table notebook</a>'\n",
              "            + ' to learn more about interactive tables.';\n",
              "          element.innerHTML = '';\n",
              "          dataTable['output_type'] = 'display_data';\n",
              "          await google.colab.output.renderOutput(dataTable, element);\n",
              "          const docLink = document.createElement('div');\n",
              "          docLink.innerHTML = docLinkHtml;\n",
              "          element.appendChild(docLink);\n",
              "        }\n",
              "      </script>\n",
              "    </div>\n",
              "  </div>\n",
              "  "
            ],
            "text/plain": [
              "                 Nome do País  ...  Percepção de Corrupção\n",
              "25                      China  ...                     NaN\n",
              "63                     Jordan  ...                     NaN\n",
              "66                     Kosovo  ...                   0.941\n",
              "98    Palestinian Territories  ...                   0.812\n",
              "108              Saudi Arabia  ...                     NaN\n",
              "122  Taiwan Province of China  ...                   0.811\n",
              "132      United Arab Emirates  ...                     NaN\n",
              "136                Uzbekistan  ...                     NaN\n",
              "139                     Yemen  ...                     NaN\n",
              "\n",
              "[9 rows x 8 columns]"
            ]
          },
          "metadata": {},
          "execution_count": 34
        }
      ]
    },
    {
      "cell_type": "markdown",
      "source": [
        "<p>Essa ausência pode ocorrer de forma ocasional ou então de maneira frequente.</p>\n",
        "<p>Um exemplo de ocorrência frequente na ausência de dados sao em países que apresentam certo cerceamento de liberdade de , onde o dado sobre 'Percepção de Corrupção' geralmente está ausente</p>\n",
        "<p>Um bom exemplo é a China:</p>"
      ],
      "metadata": {
        "id": "gXH1_Z4w25bY"
      }
    },
    {
      "cell_type": "code",
      "source": [
        "for i in anos:\n",
        "  print(i,': ',dict_years[i][dict_years[i]['Nome do País'] == 'China'][['Nome do País','Percepção de Corrupção']],'\\n')\n"
      ],
      "metadata": {
        "colab": {
          "base_uri": "https://localhost:8080/"
        },
        "id": "7OJyxJ6f2uyE",
        "outputId": "2a0175c7-e722-4ddb-d638-a101d22555ba"
      },
      "execution_count": 35,
      "outputs": [
        {
          "output_type": "stream",
          "name": "stdout",
          "text": [
            "2010 :     Nome do País  Percepção de Corrupção\n",
            "24        China                     NaN \n",
            "\n",
            "2011 :     Nome do País  Percepção de Corrupção\n",
            "27        China                     NaN \n",
            "\n",
            "2012 :     Nome do País  Percepção de Corrupção\n",
            "25        China                     NaN \n",
            "\n",
            "2013 :     Nome do País  Percepção de Corrupção\n",
            "25        China                     NaN \n",
            "\n",
            "2014 :     Nome do País  Percepção de Corrupção\n",
            "28        China                     NaN \n",
            "\n",
            "2015 :     Nome do País  Percepção de Corrupção\n",
            "24        China                     NaN \n",
            "\n",
            "2016 :     Nome do País  Percepção de Corrupção\n",
            "25        China                     NaN \n",
            "\n",
            "2017 :     Nome do País  Percepção de Corrupção\n",
            "25        China                     NaN \n",
            "\n",
            "2018 :     Nome do País  Percepção de Corrupção\n",
            "24        China                     NaN \n",
            "\n",
            "2019 :     Nome do País  Percepção de Corrupção\n",
            "24        China                     NaN \n",
            "\n",
            "2021 :     Nome do País  Percepção de Corrupção\n",
            "83        China                   0.755 \n",
            "\n"
          ]
        }
      ]
    },
    {
      "cell_type": "markdown",
      "source": [
        "Percebemos que apenas no ano de 2021 o dado foi coletado"
      ],
      "metadata": {
        "id": "cG1IcKYh5Aye"
      }
    },
    {
      "cell_type": "markdown",
      "source": [
        "#####Substituindo"
      ],
      "metadata": {
        "id": "EFoatomiGdsR"
      }
    },
    {
      "cell_type": "markdown",
      "source": [
        "Assim, iremos tratar essa ausência substituindo por uma média de quando os valores estão presentes em outros anos. Para fazer isso com mais facilidade, iremos juntar os anos novamente, rotulando cada ano ao fazer isso."
      ],
      "metadata": {
        "id": "o9Lpg8G55GVa"
      }
    },
    {
      "cell_type": "code",
      "source": [
        "dff = pd.DataFrame()\n",
        "\n",
        "for year in anos:\n",
        "  dict_years[year]['Ano'] = year\n",
        "  dff = pd.concat([dff, dict_years[year]])\n",
        "\n",
        "dff.fillna(dff.groupby(['Nome do País']).transform(np.mean), inplace=True)"
      ],
      "metadata": {
        "colab": {
          "base_uri": "https://localhost:8080/"
        },
        "id": "6vxERAwA7jly",
        "outputId": "fd59bfb3-301c-448d-c254-9dc9319bc9ff"
      },
      "execution_count": 36,
      "outputs": [
        {
          "output_type": "stream",
          "name": "stderr",
          "text": [
            "/usr/local/lib/python3.7/dist-packages/ipykernel_launcher.py:4: SettingWithCopyWarning: \n",
            "A value is trying to be set on a copy of a slice from a DataFrame.\n",
            "Try using .loc[row_indexer,col_indexer] = value instead\n",
            "\n",
            "See the caveats in the documentation: https://pandas.pydata.org/pandas-docs/stable/user_guide/indexing.html#returning-a-view-versus-a-copy\n",
            "  after removing the cwd from sys.path.\n"
          ]
        }
      ]
    },
    {
      "cell_type": "markdown",
      "source": [
        "#####Verificando"
      ],
      "metadata": {
        "id": "-f6T0zAWGnFq"
      }
    },
    {
      "cell_type": "markdown",
      "source": [
        "Verificando se ainda persistem valores nulos"
      ],
      "metadata": {
        "id": "rhtcj38UF6RX"
      }
    },
    {
      "cell_type": "code",
      "source": [
        "dff[dff.isna().any(axis=1)]"
      ],
      "metadata": {
        "colab": {
          "base_uri": "https://localhost:8080/",
          "height": 49
        },
        "id": "7-0pUeqxF5Y8",
        "outputId": "88a97239-db40-4e9d-ad56-63d8b504e59a"
      },
      "execution_count": 37,
      "outputs": [
        {
          "output_type": "execute_result",
          "data": {
            "text/html": [
              "\n",
              "  <div id=\"df-71c671f1-238a-4505-be20-39fc3ae13f87\">\n",
              "    <div class=\"colab-df-container\">\n",
              "      <div>\n",
              "<style scoped>\n",
              "    .dataframe tbody tr th:only-of-type {\n",
              "        vertical-align: middle;\n",
              "    }\n",
              "\n",
              "    .dataframe tbody tr th {\n",
              "        vertical-align: top;\n",
              "    }\n",
              "\n",
              "    .dataframe thead th {\n",
              "        text-align: right;\n",
              "    }\n",
              "</style>\n",
              "<table border=\"1\" class=\"dataframe\">\n",
              "  <thead>\n",
              "    <tr style=\"text-align: right;\">\n",
              "      <th></th>\n",
              "      <th>Nome do País</th>\n",
              "      <th>Nota para Escada de Cantril</th>\n",
              "      <th>Log do PIB per capita</th>\n",
              "      <th>Suporte Social</th>\n",
              "      <th>Expectativa de Vida Saúdavel</th>\n",
              "      <th>Liberdade para Escolhas da Vida</th>\n",
              "      <th>Generosidade</th>\n",
              "      <th>Percepção de Corrupção</th>\n",
              "      <th>Ano</th>\n",
              "    </tr>\n",
              "  </thead>\n",
              "  <tbody>\n",
              "  </tbody>\n",
              "</table>\n",
              "</div>\n",
              "      <button class=\"colab-df-convert\" onclick=\"convertToInteractive('df-71c671f1-238a-4505-be20-39fc3ae13f87')\"\n",
              "              title=\"Convert this dataframe to an interactive table.\"\n",
              "              style=\"display:none;\">\n",
              "        \n",
              "  <svg xmlns=\"http://www.w3.org/2000/svg\" height=\"24px\"viewBox=\"0 0 24 24\"\n",
              "       width=\"24px\">\n",
              "    <path d=\"M0 0h24v24H0V0z\" fill=\"none\"/>\n",
              "    <path d=\"M18.56 5.44l.94 2.06.94-2.06 2.06-.94-2.06-.94-.94-2.06-.94 2.06-2.06.94zm-11 1L8.5 8.5l.94-2.06 2.06-.94-2.06-.94L8.5 2.5l-.94 2.06-2.06.94zm10 10l.94 2.06.94-2.06 2.06-.94-2.06-.94-.94-2.06-.94 2.06-2.06.94z\"/><path d=\"M17.41 7.96l-1.37-1.37c-.4-.4-.92-.59-1.43-.59-.52 0-1.04.2-1.43.59L10.3 9.45l-7.72 7.72c-.78.78-.78 2.05 0 2.83L4 21.41c.39.39.9.59 1.41.59.51 0 1.02-.2 1.41-.59l7.78-7.78 2.81-2.81c.8-.78.8-2.07 0-2.86zM5.41 20L4 18.59l7.72-7.72 1.47 1.35L5.41 20z\"/>\n",
              "  </svg>\n",
              "      </button>\n",
              "      \n",
              "  <style>\n",
              "    .colab-df-container {\n",
              "      display:flex;\n",
              "      flex-wrap:wrap;\n",
              "      gap: 12px;\n",
              "    }\n",
              "\n",
              "    .colab-df-convert {\n",
              "      background-color: #E8F0FE;\n",
              "      border: none;\n",
              "      border-radius: 50%;\n",
              "      cursor: pointer;\n",
              "      display: none;\n",
              "      fill: #1967D2;\n",
              "      height: 32px;\n",
              "      padding: 0 0 0 0;\n",
              "      width: 32px;\n",
              "    }\n",
              "\n",
              "    .colab-df-convert:hover {\n",
              "      background-color: #E2EBFA;\n",
              "      box-shadow: 0px 1px 2px rgba(60, 64, 67, 0.3), 0px 1px 3px 1px rgba(60, 64, 67, 0.15);\n",
              "      fill: #174EA6;\n",
              "    }\n",
              "\n",
              "    [theme=dark] .colab-df-convert {\n",
              "      background-color: #3B4455;\n",
              "      fill: #D2E3FC;\n",
              "    }\n",
              "\n",
              "    [theme=dark] .colab-df-convert:hover {\n",
              "      background-color: #434B5C;\n",
              "      box-shadow: 0px 1px 3px 1px rgba(0, 0, 0, 0.15);\n",
              "      filter: drop-shadow(0px 1px 2px rgba(0, 0, 0, 0.3));\n",
              "      fill: #FFFFFF;\n",
              "    }\n",
              "  </style>\n",
              "\n",
              "      <script>\n",
              "        const buttonEl =\n",
              "          document.querySelector('#df-71c671f1-238a-4505-be20-39fc3ae13f87 button.colab-df-convert');\n",
              "        buttonEl.style.display =\n",
              "          google.colab.kernel.accessAllowed ? 'block' : 'none';\n",
              "\n",
              "        async function convertToInteractive(key) {\n",
              "          const element = document.querySelector('#df-71c671f1-238a-4505-be20-39fc3ae13f87');\n",
              "          const dataTable =\n",
              "            await google.colab.kernel.invokeFunction('convertToInteractive',\n",
              "                                                     [key], {});\n",
              "          if (!dataTable) return;\n",
              "\n",
              "          const docLinkHtml = 'Like what you see? Visit the ' +\n",
              "            '<a target=\"_blank\" href=https://colab.research.google.com/notebooks/data_table.ipynb>data table notebook</a>'\n",
              "            + ' to learn more about interactive tables.';\n",
              "          element.innerHTML = '';\n",
              "          dataTable['output_type'] = 'display_data';\n",
              "          await google.colab.output.renderOutput(dataTable, element);\n",
              "          const docLink = document.createElement('div');\n",
              "          docLink.innerHTML = docLinkHtml;\n",
              "          element.appendChild(docLink);\n",
              "        }\n",
              "      </script>\n",
              "    </div>\n",
              "  </div>\n",
              "  "
            ],
            "text/plain": [
              "Empty DataFrame\n",
              "Columns: [Nome do País, Nota para Escada de Cantril, Log do PIB per capita, Suporte Social, Expectativa de Vida Saúdavel, Liberdade para Escolhas da Vida, Generosidade, Percepção de Corrupção, Ano]\n",
              "Index: []"
            ]
          },
          "metadata": {},
          "execution_count": 37
        }
      ]
    },
    {
      "cell_type": "markdown",
      "source": [
        "Verificando se os valores a média foram realmente passados para cada NaN existente, usando o exemplo da China"
      ],
      "metadata": {
        "id": "ttwsA7CjGI9B"
      }
    },
    {
      "cell_type": "code",
      "source": [
        "dff[dff['Nome do País'] == 'China']['Percepção de Corrupção']"
      ],
      "metadata": {
        "colab": {
          "base_uri": "https://localhost:8080/"
        },
        "id": "r4izmAioGCuM",
        "outputId": "4bb6fa90-065d-411f-8bf2-acb247ba6369"
      },
      "execution_count": 38,
      "outputs": [
        {
          "output_type": "execute_result",
          "data": {
            "text/plain": [
              "24    0.755\n",
              "27    0.755\n",
              "25    0.755\n",
              "25    0.755\n",
              "28    0.755\n",
              "24    0.755\n",
              "25    0.755\n",
              "25    0.755\n",
              "24    0.755\n",
              "24    0.755\n",
              "83    0.755\n",
              "Name: Percepção de Corrupção, dtype: float64"
            ]
          },
          "metadata": {},
          "execution_count": 38
        }
      ]
    },
    {
      "cell_type": "markdown",
      "source": [
        "#Conclusão"
      ],
      "metadata": {
        "id": "-Hgk_XAQG25f"
      }
    },
    {
      "cell_type": "markdown",
      "source": [
        "##Mudanças Realizadas no Data"
      ],
      "metadata": {
        "id": "xifgrsnxHp4J"
      }
    },
    {
      "cell_type": "markdown",
      "source": [
        "<p>As mudanças realizadas no dataset foram baseadas no conteúdo ministrado em aula, prezando pela manutenção na coerência dos dados de acordo com as informações presentes no próprio dataset.</p>\n",
        "<p>O que foi apresentado aqui foi a tentativa de reduzir a perda de dados (muitas vezes inconsitentes) e aumentar a coerência entre eles, equilibrando o máximo possível as decisões referentes aos dados faltantes/incoerentes.</p>\n",
        "<p><b>As mudanças realizadas nos 2 datasets foram:</b></p>\n",
        "<ol>\n",
        "<li>Substituição dos nomes das propriedades em cada dataset para nomes em comum</li>\n",
        "<li>Remoção de países que não participavam do estudo de maneira consistente ao passar dos anos</li>\n",
        "<li>Substituição de valores nulos por médias das observações de outros anos de cada pais</li>\n",
        "<li>Junção de dos datasets em apenas um, afim de facilitar nosso trabalho</li>\n",
        "\n",
        "</ol>"
      ],
      "metadata": {
        "id": "vKCyVHRAHyWT"
      }
    },
    {
      "cell_type": "markdown",
      "source": [
        "##Export de Dataset"
      ],
      "metadata": {
        "id": "UEVAixe0gwzO"
      }
    },
    {
      "cell_type": "markdown",
      "source": [
        "Agora que já realizamos a limpeza e o preenchimento do dataset com dados faltantes, cabe a nós exporta-los para realizarmos a nossa análise"
      ],
      "metadata": {
        "id": "Nxj3tj3Jg4MY"
      }
    },
    {
      "cell_type": "code",
      "source": [
        "!mkdir databases"
      ],
      "metadata": {
        "id": "6TOVoU06hoOY"
      },
      "execution_count": 47,
      "outputs": []
    },
    {
      "cell_type": "code",
      "source": [
        "dff.to_csv('databases/world-happiness-clean.csv', index=False)"
      ],
      "metadata": {
        "id": "a7cdlF_jGViZ"
      },
      "execution_count": 48,
      "outputs": []
    },
    {
      "cell_type": "code",
      "source": [
        "#Para baixar o csv, só descomentar as próximas linhas\n",
        "#from google.colab import files\n",
        "#files.download('databases/world-happiness-clean.csv')"
      ],
      "metadata": {
        "id": "n5N-Hvj_hg19"
      },
      "execution_count": 50,
      "outputs": []
    },
    {
      "cell_type": "code",
      "source": [
        ""
      ],
      "metadata": {
        "id": "CiBFY5onh1Tk"
      },
      "execution_count": null,
      "outputs": []
    }
  ]
}